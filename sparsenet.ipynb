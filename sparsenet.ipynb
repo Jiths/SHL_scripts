{
 "cells": [
  {
   "cell_type": "markdown",
   "metadata": {
    "collapsed": true
   },
   "source": [
    "# Sparse Hebbian Learning : reproducing SparseNet"
   ]
  },
  {
   "cell_type": "code",
   "execution_count": 15,
   "metadata": {
    "collapsed": false
   },
   "outputs": [
    {
     "name": "stdout",
     "output_type": "stream",
     "text": [
      "The autoreload extension is already loaded. To reload it, use:\n",
      "  %reload_ext autoreload\n"
     ]
    },
    {
     "name": "stderr",
     "output_type": "stream",
     "text": [
      "[autoreload of version_information failed: Traceback (most recent call last):\n",
      "  File \"/usr/local/lib/python2.7/site-packages/IPython/extensions/autoreload.py\", line 247, in check\n",
      "    superreload(m, reload, self.old_objects)\n",
      "ImportError: No module named version_information\n",
      "]\n"
     ]
    }
   ],
   "source": [
    "%load_ext autoreload\n",
    "%autoreload 2"
   ]
  },
  {
   "cell_type": "code",
   "execution_count": 16,
   "metadata": {
    "collapsed": false
   },
   "outputs": [
    {
     "name": "stdout",
     "output_type": "stream",
     "text": [
      " This is a collection of python scripts to test learning strategies to efficiently code natural image patches.  This is here restricted  to the framework of the [SparseNet algorithm from Bruno Olshausen](http://redwood.berkeley.edu/bruno/sparsenet/).\n"
     ]
    }
   ],
   "source": [
    "%run setup.py --description"
   ]
  },
  {
   "cell_type": "code",
   "execution_count": 17,
   "metadata": {
    "collapsed": true
   },
   "outputs": [],
   "source": [
    "%matplotlib inline\n",
    "import matplotlib.pyplot as plt\n",
    "import numpy as np\n",
    "np.set_printoptions(precision=2, suppress=True)"
   ]
  },
  {
   "cell_type": "code",
   "execution_count": 18,
   "metadata": {
    "collapsed": true
   },
   "outputs": [],
   "source": [
    "from shl_scripts import SHL\n",
    "DEBUG_DOWNSCALE, verbose = 10, 0\n",
    "DEBUG_DOWNSCALE, verbose = 1, 0\n",
    "DEBUG_DOWNSCALE, verbose = 10, 100"
   ]
  },
  {
   "cell_type": "markdown",
   "metadata": {},
   "source": [
    "## Homeostasis à-la-SparseNet"
   ]
  },
  {
   "cell_type": "code",
   "execution_count": null,
   "metadata": {
    "collapsed": false,
    "scrolled": true
   },
   "outputs": [
    {
     "name": "stdout",
     "output_type": "stream",
     "text": [
      "Extracting data...\b\b\b\b\b\b\b\b\b\b\b\b\b\b\b\b\b\b\b\b\b\b\b\b\b\b\b\b\b\b\b\b\b\b\b\b\b\b\b\b\bMdn_natu412.jpg, Fdn_land56.jpg, Hda_obj111.jpg, Hdn_objn47.jpg, Hdn_natu369.jpg, Fda_gre479.jpg, Fda_A683045.jpg, Hda_obj98.jpg, Bdn_objn152.jpg, Mdn_nat954.jpg, Hda_obj96.jpg, Bdn_N44099.jpg, Fdn_for7.jpg, Hda_obj99.jpg, Mdn_land82.jpg, Mda_urb230.jpg, Fdn_sharp22.jpg, Bdn_nat463.jpg, Hda_obj76.jpg, Hdn_objn41.jpg, Hda_int170.jpg, Fda_A731012.jpg, Fda_art1465.jpg, Bda_art1152.jpg, Mda_urb982.jpg, Hda_obj298.jpg, Fdn_bea2.jpg, Mdn_nat634.jpg, Mda_urb276.jpg, Fdn_land951.jpg, Fdn_open18.jpg, Mda_art509.jpg, Mdn_N344038.jpg, Fdn_nat498.jpg, Fda_A244041.jpg, Hda_int536.jpg, Mda_art438.jpg, Bda_room493.jpg, Hdn_N124058.jpg, Mda_urb580.jpg, Mda_arnat105.jpg, Hdn_objn45.jpg, Bdn_text83.jpg, Fda_art1017.jpg, Bda_int211.jpg, Mdn_land743.jpg, Hda_obj65.jpg, Hda_obj74.jpg, Hdn_objn125.jpg, Fda_art560.jpg, Bdn_for82.jpg, Hda_obj414.jpg, Bdn_N44094.jpg, Hdn_natu805.jpg, Bda_int46.jpg, Mdn_N344070.jpg, Fdn_land253.jpg, Mdn_natu42.jpg, Hdn_objn30.jpg, Fda_osun36.jpg, Mda_archi42.jpg, Fda_A219084.jpg, Bdn_text6.jpg, Fdn_bea39.jpg, Bda_int741.jpg, Bda_obj123.jpg, Hdn_objn190.jpg, Bdn_text106.jpg, Bdn_text4.jpg, Mdn_land94.jpg, Fdn_land356.jpg, Fda_A244068.jpg, Hda_obj2.jpg, Hda_obj25.jpg, Fda_A463033.jpg, Hdn_objn38.jpg, Hdn_N124055.jpg, Hdn_N152064.jpg, Hdn_objn177.jpg, Bdn_text23.jpg, Fdn_land293.jpg, Hdn_objn65.jpg, Hdn_objn98.jpg, Mda_archi100.jpg, Fdn_open6.jpg, Bda_art1067.jpg, Mda_hous47.jpg, Mda_par135.jpg, Mda_urb515.jpg, Fdn_nat283.jpg, Hda_obj252.jpg, Bda_urb291.jpg, Mdn_N228077.jpg, Hda_obj71.jpg, Fda_city83.jpg, Mdn_land159.jpg, Mda_art843.jpg, Fda_A683068.jpg, Fdn_natu139.jpg, Hda_obj105.jpg, Bda_room23.jpg, Fda_urb128.jpg, Mda_art175.jpg, Mda_art1312.jpg, Fda_art462.jpg, Mda_art337.jpg, Hdn_N124065.jpg, Hda_obj433.jpg, Mdn_natu961.jpg, Fdn_land867.jpg, Hda_obj293.jpg, Hda_room425.jpg, Mdn_for135.jpg, Bda_gre607.jpg, Bda_art1288.jpg, Mdn_nat164.jpg, Mdn_N291096.jpg, Hda_obj57.jpg, Fdn_open14.jpg, Bda_room178.jpg, Mdn_text45.jpg, Fdn_open21.jpg, Hdn_natu729.jpg, Hdn_objn137.jpg, Fdn_nat1004.jpg, Mdn_N328009.jpg, Mdn_N347004.jpg, Mdn_N344026.jpg, Hda_obj418.jpg, Hda_obj12.jpg, Hdn_natu354.jpg, Fdn_open67.jpg, Bdn_natu5.jpg, Mda_urb382.jpg, Bda_art971.jpg, Hda_obj257.jpg, Fda_street63.jpg, Bda_art145.jpg, Hdn_N127068.jpg, Fda_art1626.jpg, Fda_A223013.jpg, Fda_A803044.jpg, Hdn_objn26.jpg, Bda_room141.jpg, Bdn_nat1157.jpg, Mda_art1665.jpg, Hdn_objn42.jpg, Mda_art547.jpg, Hdn_objn60.jpg, Bda_int110.jpg, Fdn_open17.jpg, Hda_obj454.jpg, Fda_art1684.jpg, Fdn_nat1251.jpg, Fdn_land12.jpg, Fdn_land290.jpg, Fda_urb540.jpg, Fdn_open19.jpg, Mda_par104.jpg, Bda_art921.jpg, Hda_obj93.jpg, Mdn_nat389.jpg, Hda_obj292.jpg, Mda_hous31.jpg, Bda_art1117.jpg, Hda_obj357.jpg, Bdn_objn146.jpg, Hdn_for104.jpg, Hdn_objn32.jpg, Bdn_nat331.jpg, Bdn_for51.jpg, Bda_art1111.jpg, Hda_obj51.jpg, Hdn_objn25.jpg, Fdn_land13.jpg, Fda_obj230.jpg, Mdn_N295019.jpg, Fda_art358.jpg, Hda_int314.jpg, Hdn_objn34.jpg, Bdn_natu676.jpg, Fdn_land805.jpg, Fda_street29.jpg, Bdn_nat306.jpg, Fdn_land317.jpg, Hda_obj88.jpg, Mdn_N328025.jpg, Mda_urb902.jpg, Hda_obj73.jpg, Fda_A517086.jpg, Fda_A804076.jpg, Mda_archi56.jpg, Fda_art464.jpg, Fdn_nat322.jpg, Hdn_objn181.jpg, Hdn_objn122.jpg, Bda_room188.jpg, Fdn_nat1238.jpg, Hdn_objn19.jpg, Hda_obj94.jpg, \n",
      "Data is of shape : (200000, 100)done in 18.75s.Learning the dictionary... Training on 200000 patches... Iteration   0 /   5000 (elapsed time:   0s,  0.0mn)\n",
      "Norm  1.0 1.0 23\n",
      "Gain  1.0 1.0 0\n",
      "Iteration  50 /   5000 (elapsed time:   7s,  0.1mn)\n",
      "Norm  0.999749719747 1.00041244059 24\n",
      "Gain  1.0 1.0 0\n",
      "Iteration  100 /   5000 (elapsed time:  15s,  0.3mn)\n",
      "Norm  0.999692382641 1.00087061284 45\n",
      "Gain  1.0 1.0 0\n",
      "Iteration  150 /   5000 (elapsed time:  22s,  0.4mn)\n",
      "Norm  0.99972430844 1.0004388927 43\n",
      "Gain  1.0 1.0 0\n",
      "Iteration  200 /   5000 (elapsed time:  29s,  0.5mn)\n",
      "Norm  0.999861136212 1.00030854511 83\n",
      "Gain  1.0 1.0 0\n",
      "Iteration  250 /   5000 (elapsed time:  36s,  0.6mn)\n",
      "Norm  0.999906547938 1.00035629695 8\n",
      "Gain  1.0 1.0 0\n",
      "Iteration  300 /   5000 (elapsed time:  43s,  0.7mn)\n",
      "Norm  0.999834568492 1.0003709374 57\n",
      "Gain  1.0 1.0 0\n",
      "Iteration  350 /   5000 (elapsed time:  50s,  0.8mn)\n",
      "Norm  0.999874857824 1.00069953761 5\n",
      "Gain  1.0 1.0 0\n",
      "Iteration  400 /   5000 (elapsed time:  57s,  1.0mn)\n",
      "Norm  0.999849465646 1.00099243585 75\n",
      "Gain  1.0 1.0 0\n",
      "Iteration  450 /   5000 (elapsed time:  64s,  1.1mn)\n",
      "Norm  0.999751368337 1.00029441169 36\n",
      "Gain  1.0 1.0 0\n",
      "Iteration  500 /   5000 (elapsed time:  71s,  1.2mn)\n",
      "Norm  0.999836636111 1.00033099149 18\n",
      "Gain  1.0 1.0 0\n",
      "Iteration  550 /   5000 (elapsed time:  79s,  1.3mn)\n",
      "Norm  0.99988050309 1.00033655623 24\n",
      "Gain  1.0 1.0 0\n",
      "Iteration  600 /   5000 (elapsed time:  86s,  1.4mn)\n",
      "Norm  0.999811122619 1.00051566255 31\n",
      "Gain  1.0 1.0 0\n",
      "Iteration  650 /   5000 (elapsed time:  94s,  1.6mn)\n",
      "Norm  0.999727233003 1.00047752368 8\n",
      "Gain  1.0 1.0 0\n",
      "Iteration  700 /   5000 (elapsed time:  101s,  1.7mn)\n",
      "Norm  0.999702889355 1.00056270625 30\n",
      "Gain  1.0 1.0 0\n",
      "Iteration  750 /   5000 (elapsed time:  109s,  1.8mn)\n",
      "Norm  0.999796267266 1.00069860514 86\n",
      "Gain  1.0 1.0 0\n",
      "Iteration  800 /   5000 (elapsed time:  117s,  2.0mn)\n",
      "Norm  0.999483432719 1.00062019601 84\n",
      "Gain  1.0 1.0 0\n",
      "Iteration  850 /   5000 (elapsed time:  126s,  2.1mn)\n",
      "Norm  0.999801994928 1.00070240993 92\n",
      "Gain  1.0 1.0 0\n",
      "Iteration  900 /   5000 (elapsed time:  133s,  2.2mn)\n",
      "Norm  0.999816534417 1.00044798373 92\n",
      "Gain  1.0 1.0 0\n",
      "Iteration  950 /   5000 (elapsed time:  142s,  2.4mn)\n",
      "Norm  0.999914420182 1.00038758992 6\n",
      "Gain  1.0 1.0 0\n",
      "Iteration  1000 /   5000 (elapsed time:  150s,  2.5mn)\n",
      "Norm  0.999884806469 1.00029122719 34\n",
      "Gain  1.0 1.0 0\n",
      "Iteration  1050 /   5000 (elapsed time:  158s,  2.6mn)\n",
      "Norm  0.999858640964 1.00027224427 73\n",
      "Gain  1.0 1.0 0\n",
      "Iteration  1100 /   5000 (elapsed time:  165s,  2.8mn)\n",
      "Norm  0.99981518798 1.00075029448 5\n",
      "Gain  1.0 1.0 0\n",
      "Iteration  1150 /   5000 (elapsed time:  173s,  2.9mn)\n",
      "Norm  0.999895245375 1.00036851595 70\n",
      "Gain  1.0 1.0 0\n",
      "Iteration  1200 /   5000 (elapsed time:  181s,  3.0mn)\n",
      "Norm  0.999767666775 1.00050258426 47\n",
      "Gain  1.0 1.0 0\n",
      "Iteration  1250 /   5000 (elapsed time:  188s,  3.1mn)\n",
      "Norm  0.999777381468 1.00041856537 67\n",
      "Gain  1.0 1.0 0\n",
      "Iteration  1300 /   5000 (elapsed time:  196s,  3.3mn)\n",
      "Norm  0.999873525673 1.00066445235 93\n",
      "Gain  1.0 1.0 0\n",
      "Iteration  1350 /   5000 (elapsed time:  204s,  3.4mn)\n",
      "Norm  0.999828702268 1.00036303956 84\n",
      "Gain  1.0 1.0 0\n",
      "Iteration  1400 /   5000 (elapsed time:  213s,  3.6mn)\n",
      "Norm  0.999892320269 1.00039537307 35\n",
      "Gain  1.0 1.0 0\n",
      "Iteration  1450 /   5000 (elapsed time:  221s,  3.7mn)\n",
      "Norm  0.999822534085 1.00048489855 0\n",
      "Gain  1.0 1.0 0\n",
      "Iteration  1500 /   5000 (elapsed time:  230s,  3.8mn)\n",
      "Norm  0.999898678467 1.00032676209 34\n",
      "Gain  1.0 1.0 0\n",
      "Iteration  1550 /   5000 (elapsed time:  239s,  4.0mn)\n",
      "Norm  0.999834691519 1.00034175267 23\n",
      "Gain  1.0 1.0 0\n",
      "Iteration  1600 /   5000 (elapsed time:  248s,  4.1mn)\n",
      "Norm  0.999805020791 1.00050357529 82\n",
      "Gain  1.0 1.0 0\n",
      "Iteration  1650 /   5000 (elapsed time:  257s,  4.3mn)\n",
      "Norm  0.999793509995 1.00045383136 33\n",
      "Gain  1.0 1.0 0\n",
      "Iteration  1700 /   5000 (elapsed time:  268s,  4.5mn)\n",
      "Norm  0.999837357332 1.00047999258 22\n",
      "Gain  1.0 1.0 0\n",
      "Iteration  1750 /   5000 (elapsed time:  277s,  4.6mn)\n",
      "Norm  0.999745354058 1.00056512955 47\n",
      "Gain  1.0 1.0 0\n",
      "Iteration  1800 /   5000 (elapsed time:  286s,  4.8mn)\n",
      "Norm  0.999878831435 1.0002679268 51\n",
      "Gain  1.0 1.0 0\n",
      "Iteration  1850 /   5000 (elapsed time:  296s,  4.9mn)\n",
      "Norm  0.999752446535 1.00089720054 66\n",
      "Gain  1.0 1.0 0\n",
      "Iteration  1900 /   5000 (elapsed time:  306s,  5.1mn)\n",
      "Norm  0.99990584683 1.00027435583 23\n",
      "Gain  1.0 1.0 0\n",
      "Iteration  1950 /   5000 (elapsed time:  315s,  5.3mn)\n",
      "Norm  0.999822167059 1.00022127576 75\n",
      "Gain  1.0 1.0 0\n",
      "Iteration  2000 /   5000 (elapsed time:  324s,  5.4mn)\n",
      "Norm  0.999924002327 1.00017702472 19\n",
      "Gain  1.0 1.0 0\n",
      "Iteration  2050 /   5000 (elapsed time:  334s,  5.6mn)\n",
      "Norm  0.999823048195 1.00040093386 39\n",
      "Gain  1.0 1.0 0\n",
      "Iteration  2100 /   5000 (elapsed time:  343s,  5.7mn)\n",
      "Norm  0.999699316449 1.00061143037 4\n",
      "Gain  1.0 1.0 0\n",
      "Iteration  2150 /   5000 (elapsed time:  353s,  5.9mn)\n",
      "Norm  0.999856041373 1.00038030074 53\n",
      "Gain  1.0 1.0 0\n",
      "Iteration  2200 /   5000 (elapsed time:  363s,  6.1mn)\n",
      "Norm  0.999710463234 1.00030683425 52\n",
      "Gain  1.0 1.0 0\n",
      "Iteration  2250 /   5000 (elapsed time:  372s,  6.2mn)\n",
      "Norm  0.999917652245 1.00029347274 72\n",
      "Gain  1.0 1.0 0\n",
      "Iteration  2300 /   5000 (elapsed time:  381s,  6.4mn)\n",
      "Norm  0.999842046224 1.00022439489 97\n",
      "Gain  1.0 1.0 0\n",
      "Iteration  2350 /   5000 (elapsed time:  389s,  6.5mn)\n",
      "Norm  0.9998952106 1.00072905605 32\n",
      "Gain  1.0 1.0 0\n",
      "Iteration  2400 /   5000 (elapsed time:  398s,  6.6mn)\n",
      "Norm  0.99978282767 1.00085451193 10\n",
      "Gain  1.0 1.0 0\n",
      "Iteration  2450 /   5000 (elapsed time:  407s,  6.8mn)\n",
      "Norm  0.999937944711 1.00028504443 52\n",
      "Gain  1.0 1.0 0\n",
      "Iteration  2500 /   5000 (elapsed time:  415s,  6.9mn)\n",
      "Norm  0.999883496116 1.00030124535 64\n",
      "Gain  1.0 1.0 0\n",
      "Iteration  2550 /   5000 (elapsed time:  424s,  7.1mn)\n",
      "Norm  0.999882833643 1.0003214333 41\n",
      "Gain  1.0 1.0 0\n",
      "Iteration  2600 /   5000 (elapsed time:  433s,  7.2mn)\n",
      "Norm  0.999683461918 1.00042084152 57\n",
      "Gain  1.0 1.0 0\n",
      "Iteration  2650 /   5000 (elapsed time:  442s,  7.4mn)\n",
      "Norm  0.999754371297 1.00047192273 8\n",
      "Gain  1.0 1.0 0\n",
      "Iteration  2700 /   5000 (elapsed time:  451s,  7.5mn)\n",
      "Norm  0.999562645979 1.00045439068 30\n",
      "Gain  1.0 1.0 0\n",
      "Iteration  2750 /   5000 (elapsed time:  460s,  7.7mn)\n",
      "Norm  0.999729485593 1.00061010591 57\n",
      "Gain  1.0 1.0 0\n",
      "Iteration  2800 /   5000 (elapsed time:  468s,  7.8mn)\n",
      "Norm  0.999861218614 1.00048891815 63\n",
      "Gain  1.0 1.0 0\n",
      "Iteration  2850 /   5000 (elapsed time:  475s,  7.9mn)\n",
      "Norm  0.999752211694 1.00069932538 48\n",
      "Gain  1.0 1.0 0\n",
      "Iteration  2900 /   5000 (elapsed time:  483s,  8.1mn)\n",
      "Norm  0.999900136443 1.00033678378 73\n",
      "Gain  1.0 1.0 0\n",
      "Iteration  2950 /   5000 (elapsed time:  490s,  8.2mn)\n",
      "Norm  0.999831942045 1.0003265856 40\n",
      "Gain  1.0 1.0 0\n",
      "Iteration  3000 /   5000 (elapsed time:  497s,  8.3mn)\n",
      "Norm  0.999896556893 1.00027671031 7\n",
      "Gain  1.0 1.0 0\n",
      "Iteration  3050 /   5000 (elapsed time:  505s,  8.4mn)\n",
      "Norm  0.999924156953 1.00025226803 57\n",
      "Gain  1.0 1.0 0\n",
      "Iteration  3100 /   5000 (elapsed time:  513s,  8.6mn)\n",
      "Norm  0.999879598635 1.00042599192 6\n",
      "Gain  1.0 1.0 0\n",
      "Iteration  3150 /   5000 (elapsed time:  521s,  8.7mn)\n",
      "Norm  0.999907142445 1.00029805672 38\n",
      "Gain  1.0 1.0 0\n",
      "Iteration  3200 /   5000 (elapsed time:  529s,  8.8mn)\n",
      "Norm  0.99981215986 1.00038271583 79\n",
      "Gain  1.0 1.0 0\n",
      "Iteration  3250 /   5000 (elapsed time:  538s,  9.0mn)\n",
      "Norm  0.999763322814 1.00034293645 27\n",
      "Gain  1.0 1.0 0\n",
      "Iteration  3300 /   5000 (elapsed time:  547s,  9.1mn)\n",
      "Norm  0.999904713985 1.00046343265 50\n",
      "Gain  1.0 1.0 0\n",
      "Iteration  3350 /   5000 (elapsed time:  557s,  9.3mn)\n",
      "Norm  0.999865406163 1.0002052398 20\n",
      "Gain  1.0 1.0 0\n",
      "Iteration  3400 /   5000 (elapsed time:  567s,  9.5mn)\n",
      "Norm  0.999857918979 1.00032221604 89\n",
      "Gain  1.0 1.0 0\n",
      "Iteration  3450 /   5000 (elapsed time:  578s,  9.6mn)\n",
      "Norm  0.999899565069 1.00045476828 36\n",
      "Gain  1.0 1.0 0\n",
      "Iteration  3500 /   5000 (elapsed time:  588s,  9.8mn)\n",
      "Norm  0.999899228824 1.00027160051 57\n",
      "Gain  1.0 1.0 0\n",
      "Iteration  3550 /   5000 (elapsed time:  599s,  10.0mn)\n",
      "Norm  0.999820273999 1.00026479459 26\n",
      "Gain  1.0 1.0 0\n",
      "Iteration  3600 /   5000 (elapsed time:  610s,  10.2mn)\n",
      "Norm  0.999765304853 1.00039537693 47\n",
      "Gain  1.0 1.0 0\n",
      "Iteration  3650 /   5000 (elapsed time:  621s,  10.4mn)\n",
      "Norm  0.99978893721 1.00031639815 91\n",
      "Gain  1.0 1.0 0\n",
      "Iteration  3700 /   5000 (elapsed time:  632s,  10.5mn)\n",
      "Norm  0.999715823766 1.0004944282 27\n",
      "Gain  1.0 1.0 0\n",
      "Iteration  3750 /   5000 (elapsed time:  643s,  10.7mn)\n",
      "Norm  0.999764291756 1.00056270456 43\n",
      "Gain  1.0 1.0 0\n",
      "Iteration  3800 /   5000 (elapsed time:  654s,  10.9mn)\n",
      "Norm  0.999895501462 1.00021092495 52\n",
      "Gain  1.0 1.0 0\n",
      "Iteration  3850 /   5000 (elapsed time:  666s,  11.1mn)\n",
      "Norm  0.999660477307 1.00081370415 7\n",
      "Gain  1.0 1.0 0\n",
      "Iteration  3900 /   5000 (elapsed time:  677s,  11.3mn)\n",
      "Norm  0.999853417884 1.00021357638 48\n",
      "Gain  1.0 1.0 0\n",
      "Iteration  3950 /   5000 (elapsed time:  688s,  11.5mn)\n",
      "Norm  0.999921411065 1.0002001898 99\n",
      "Gain  1.0 1.0 0\n",
      "Iteration  4000 /   5000 (elapsed time:  699s,  11.7mn)\n",
      "Norm  0.999879317572 1.0001972634 19\n",
      "Gain  1.0 1.0 0\n",
      "Iteration  4050 /   5000 (elapsed time:  710s,  11.8mn)\n",
      "Norm  0.999846507565 1.0003017043 22\n",
      "Gain  1.0 1.0 0\n",
      "Iteration  4100 /   5000 (elapsed time:  721s,  12.0mn)\n",
      "Norm  0.999568222157 1.00065059572 99\n",
      "Gain  1.0 1.0 0\n",
      "Iteration  4150 /   5000 (elapsed time:  734s,  12.2mn)\n",
      "Norm  0.999858155337 1.0004119306 18\n",
      "Gain  1.0 1.0 0\n",
      "Iteration  4200 /   5000 (elapsed time:  745s,  12.4mn)\n",
      "Norm  0.999788017188 1.00024861853 52\n",
      "Gain  1.0 1.0 0\n",
      "Iteration  4250 /   5000 (elapsed time:  756s,  12.6mn)\n",
      "Norm  0.999873905811 1.00032651933 28\n",
      "Gain  1.0 1.0 0\n",
      "Iteration  4300 /   5000 (elapsed time:  766s,  12.8mn)\n",
      "Norm  0.999880492141 1.00024423324 99\n",
      "Gain  1.0 1.0 0\n",
      "Iteration  4350 /   5000 (elapsed time:  777s,  13.0mn)\n",
      "Norm  0.99990969393 1.00062290549 5\n",
      "Gain  1.0 1.0 0\n",
      "Iteration  4400 /   5000 (elapsed time:  788s,  13.1mn)\n",
      "Norm  0.999832872807 1.00070762279 85\n",
      "Gain  1.0 1.0 0\n",
      "Iteration  4450 /   5000 (elapsed time:  799s,  13.3mn)\n",
      "Norm  0.999885021504 1.0002583604 81\n",
      "Gain  1.0 1.0 0\n",
      "Iteration  4500 /   5000 (elapsed time:  810s,  13.5mn)\n",
      "Norm  0.999886709604 1.00022682639 82\n",
      "Gain  1.0 1.0 0\n",
      "Iteration  4550 /   5000 (elapsed time:  821s,  13.7mn)\n",
      "Norm  0.999910397666 1.00022812258 41\n",
      "Gain  1.0 1.0 0\n",
      "Iteration  4600 /   5000 (elapsed time:  832s,  13.9mn)\n",
      "Norm  0.999624051033 1.00046400239 57\n",
      "Gain  1.0 1.0 0\n",
      "Iteration  4650 /   5000 (elapsed time:  844s,  14.1mn)\n",
      "Norm  0.999496987917 1.00033636114 8\n",
      "Gain  1.0 1.0 0\n",
      "Iteration  4700 /   5000 (elapsed time:  854s,  14.2mn)\n",
      "Norm  0.999465615109 1.00048587314 59\n",
      "Gain  1.0 1.0 0\n",
      "Iteration  4750 /   5000 (elapsed time:  865s,  14.4mn)\n",
      "Norm  0.999699921781 1.0004947123 98\n",
      "Gain  1.0 1.0 0\n",
      "Iteration  4800 /   5000 (elapsed time:  875s,  14.6mn)\n",
      "Norm  0.999801957658 1.00049355297 63\n",
      "Gain  1.0 1.0 0\n",
      "Iteration  4850 /   5000 (elapsed time:  884s,  14.7mn)\n",
      "Norm  0.999832423953 1.00063009719 86\n",
      "Gain  1.0 1.0 0\n",
      "Iteration  4900 /   5000 (elapsed time:  893s,  14.9mn)\n",
      "Norm  0.999849665242 1.00044579284 26\n",
      "Gain  1.0 1.0 0\n",
      "Iteration  4950 /   5000 (elapsed time:  902s,  15.0mn)\n",
      "Norm  0.999846802359 1.00030943687 34\n",
      "Gain  1.0 1.0 0\n",
      "done in 911.87s.\n"
     ]
    },
    {
     "data": {
      "image/png": "[encoded data removed]",
      "text/plain": [
       "<matplotlib.figure.Figure at 0x112d61410>"
      ]
     },
     "metadata": {},
     "output_type": "display_data"
    }
   ],
   "source": [
    "shl = SHL(DEBUG_DOWNSCALE=DEBUG_DOWNSCALE, eta_homeo=0,\n",
    "          learning_algorithm='omp', verbose=verbose)\n",
    "dico = shl.learn_dico()\n",
    "_ = shl.show_dico(dico)"
   ]
  },
  {
   "cell_type": "code",
   "execution_count": null,
   "metadata": {
    "collapsed": false,
    "scrolled": true
   },
   "outputs": [
    {
     "name": "stdout",
     "output_type": "stream",
     "text": [
      "Extracting data...\b\b\b\b\b\b\b\b\b\b\b\b\b\b\b\b\b\b\b\b\b\b\b\b\b\b\b\b\b\b\b\b\b\b\b\b\b\b\b\b\bFda_art1470.jpg, Bda_int16.jpg, Mda_urb230.jpg, Hda_obj51.jpg, Bda_art621.jpg, Hda_obj172.jpg, Bdn_text1.jpg, Mdn_land750.jpg, Fda_art1394.jpg, Hdn_objn122.jpg, Hda_obj394.jpg, Hdn_objn34.jpg, Fdn_natu919.jpg, Mdn_N295019.jpg, Bdn_for82.jpg, Mda_art1680.jpg, Bda_room133.jpg, Bda_art1147.jpg, Bdn_natu379.jpg, Fdn_bea7.jpg, Mdn_text113.jpg, Fdn_nat194.jpg, Fda_A463036.jpg, Fda_art779.jpg, Fdn_land56.jpg, Hdn_objn30.jpg, Mdn_N347003.jpg, Bdn_text7.jpg, Fda_A223024.jpg, Hda_obj105.jpg, Mdn_natu961.jpg, Bdn_natu350.jpg, Hdn_objn25.jpg, Mda_hous31.jpg, Hdn_objn66.jpg, Hda_obj111.jpg, Hda_obj56.jpg, Mda_enc30.jpg, Hdn_objn137.jpg, Fdn_sclos3.jpg, Hdn_objn181.jpg, Mdn_N295008.jpg, Hdn_objn115.jpg, Hdn_objn113.jpg, Hdn_objn60.jpg, Hdn_N115056.jpg, Hda_obj450.jpg, Mdn_land760.jpg, Hda_int170.jpg, Hda_int888.jpg, Fdn_land805.jpg, Mda_art750.jpg, Fda_A683031.jpg, Bdn_text21.jpg, Mdn_text119.jpg, Bdn_text16.jpg, Bdn_text2.jpg, Fda_A803044.jpg, Hdn_N124055.jpg, Bdn_for23.jpg, Fdn_land362.jpg, Mda_urb562.jpg, Fdn_nat170.jpg, Hdn_objn19.jpg, Bdn_for122.jpg, Hdn_objn38.jpg, Mdn_N295007.jpg, Bda_art921.jpg, Fdn_open4.jpg, Fdn_open14.jpg, Hdn_objn56.jpg, Bda_art1158.jpg, Bdn_objn94.jpg, Bda_gre328.jpg, Hda_obj404.jpg, Mdn_land743.jpg, Mdn_N228077.jpg, Hdn_objn177.jpg, Hdn_objn40.jpg, Bda_obj123.jpg, Fda_enc51.jpg, Hdn_objn125.jpg, Mda_art517.jpg, Bdn_land810.jpg, Bda_art673.jpg, Fdn_sclos1.jpg, Mdn_land170.jpg, Hdn_objn202.jpg, Hda_int453.jpg, Fdn_text26.jpg, Bdn_land859.jpg, Fdn_open19.jpg, Hdn_objn227.jpg, Fdn_nat1251.jpg, Mdn_N344067.jpg, Mdn_N328089.jpg, Hdn_objn42.jpg, Mda_urb982.jpg, Hdn_natu28.jpg, Mdn_N347002.jpg, Hda_obj1.jpg, Fda_art358.jpg, Mda_urb659.jpg, Fdn_natu176.jpg, Mda_hous47.jpg, Fdn_open7.jpg, Bdn_objn102.jpg, Bda_room12.jpg, Hdn_objn33.jpg, Fdn_land356.jpg, Mdn_N347004.jpg, Bda_int211.jpg, Fda_art772.jpg, Fdn_nat462.jpg, Mda_art547.jpg, Mdn_nat954.jpg, Hda_obj12.jpg, Mdn_N344035.jpg, Mda_urb580.jpg, Hda_obj433.jpg, Bda_gre607.jpg, Mda_arnat105.jpg, Fda_A805078.jpg, Mda_art22.jpg, Fdn_nat1004.jpg, Fdn_nat1238.jpg, Fda_A462040.jpg, Bda_room40.jpg, Hda_obj97.jpg, Fda_A463033.jpg, Hda_obj74.jpg, Mdn_text45.jpg, Mdn_for72.jpg, Mda_par140.jpg, Fda_art1180.jpg, Mdn_land243.jpg, Bdn_nat1164.jpg, Fdn_open12.jpg, Fdn_sclos2.jpg, Hdn_objn45.jpg, Mda_art545.jpg, Mda_urb382.jpg, Fda_A804076.jpg, Bda_art623.jpg, Bda_room188.jpg, Hda_obj7.jpg, Fdn_bea25.jpg, Hda_obj257.jpg, Bda_art671.jpg, Fdn_land951.jpg, Fda_art1626.jpg, Fda_urb128.jpg, Fdn_sclos4.jpg, Mdn_nat1196.jpg, Bdn_text14.jpg, Bda_art1175.jpg, Bda_int770.jpg, Fda_street29.jpg, Fda_art336.jpg, Hda_int457.jpg, Hda_room431.jpg, Hda_obj357.jpg, Bda_int110.jpg, Bdn_nat1157.jpg, Mdn_natu172.jpg, Hdn_objn200.jpg, Mdn_nat492.jpg, Bdn_land759.jpg, Bdn_objn146.jpg, Hdn_objn46.jpg, Mda_art1030.jpg, Bda_art1256.jpg, Fdn_open21.jpg, Mdn_natu696.jpg, Mda_archi37.jpg, Bdn_text3.jpg, Fda_urb794.jpg, Fda_urb752.jpg, Bda_art923.jpg, Bdn_text119.jpg, Mda_archi277.jpg, Mdn_natu590.jpg, Bda_art971.jpg, Mdn_N228075.jpg, Fdn_land12.jpg, Mdn_N328025.jpg, Fdn_natu649.jpg, Mdn_land503.jpg, Bdn_text20.jpg, Hdn_objn44.jpg, Bdn_nat306.jpg, Bda_art1117.jpg, Hdn_text6.jpg, Fdn_nat498.jpg, Hda_obj47.jpg, Fdn_land867.jpg, Mdn_nat367.jpg, Mda_archi233.jpg, Fda_osun36.jpg, Mda_art1665.jpg, \n",
      "Data is of shape : (200000, 100)done in 23.48s.Learning the dictionary... Training on 200000 patches... Iteration   0 /   5000 (elapsed time:   0s,  0.0mn)\n",
      "Norm  1.0 1.0 29\n",
      "Gain  1.0 1.0 0\n",
      "Iteration  50 /   5000 (elapsed time:   8s,  0.1mn)\n",
      "Norm  0.998642468452 1.00116269659 60\n",
      "Gain  0.986196425447 1.0196245668 60\n",
      "Iteration  100 /   5000 (elapsed time:  16s,  0.3mn)\n",
      "Norm  0.998877663418 1.00060980711 21\n",
      "Gain  0.991974299212 1.01186269943 78\n",
      "Iteration  150 /   5000 (elapsed time:  26s,  0.4mn)\n",
      "Norm  0.999330967103 1.00162308818 74\n",
      "Gain  0.978006429099 1.0131688179 67\n",
      "Iteration  200 /   5000 (elapsed time:  34s,  0.6mn)\n",
      "Norm  0.997910520225 1.00104814285 60\n",
      "Gain  0.987156586467 1.02461887266 60\n",
      "Iteration  250 /   5000 (elapsed time:  42s,  0.7mn)\n",
      "Norm  0.999119215236 1.00108359782 23\n",
      "Gain  0.98432651596 1.01779258276 39\n",
      "Iteration  300 /   5000 (elapsed time:  51s,  0.9mn)\n",
      "Norm  0.99870997016 1.00146518455 33\n",
      "Gain  0.979663465326 1.0208704502 74\n",
      "Iteration  350 /   5000 (elapsed time:  60s,  1.0mn)\n",
      "Norm  0.998814110349 1.00129900513 20\n",
      "Gain  0.986148891836 1.02364870827 21\n",
      "Iteration  400 /   5000 (elapsed time:  68s,  1.1mn)\n",
      "Norm  0.999017525017 1.00180850523 47\n",
      "Gain  0.978145990279 1.02776440511 39\n",
      "Iteration  450 /   5000 (elapsed time:  77s,  1.3mn)\n",
      "Norm  0.997894663011 1.00120834906 33\n",
      "Gain  0.97868505533 1.03086055384 69\n",
      "Iteration  500 /   5000 (elapsed time:  86s,  1.4mn)"
     ]
    }
   ],
   "source": [
    "for eta in np.logspace(-5, -3, 5, base=10):\n",
    "    shl = SHL(DEBUG_DOWNSCALE=DEBUG_DOWNSCALE, \n",
    "              learning_algorithm='omp', eta=eta, verbose=verbose)\n",
    "    dico = shl.learn_dico()\n",
    "    _ = shl.show_dico(dico)"
   ]
  },
  {
   "cell_type": "code",
   "execution_count": null,
   "metadata": {
    "collapsed": false,
    "scrolled": true
   },
   "outputs": [],
   "source": [
    "for eta_homeo in np.logspace(-4.5, -2, 5, base=10):\n",
    "    shl = SHL(DEBUG_DOWNSCALE=DEBUG_DOWNSCALE, \n",
    "              learning_algorithm='omp', \n",
    "              transform_n_nonzero_coefs=10, eta_homeo=eta_homeo, verbose=verbose)\n",
    "    dico = shl.learn_dico()\n",
    "    _ = shl.show_dico(dico)"
   ]
  },
  {
   "cell_type": "code",
   "execution_count": null,
   "metadata": {
    "collapsed": false,
    "scrolled": true
   },
   "outputs": [],
   "source": [
    "%run setup.py --long-description"
   ]
  },
  {
   "cell_type": "markdown",
   "metadata": {},
   "source": [
    "## Version used"
   ]
  },
  {
   "cell_type": "code",
   "execution_count": null,
   "metadata": {
    "collapsed": false
   },
   "outputs": [],
   "source": [
    "%install_ext http://raw.github.com/jrjohansson/version_information/master/version_information.py\n",
    "%load_ext version_information\n",
    "%version_information numpy"
   ]
  }
 ],
 "metadata": {
  "kernelspec": {
   "display_name": "Python 2",
   "language": "python",
   "name": "python2"
  },
  "language_info": {
   "codemirror_mode": {
    "name": "ipython",
    "version": 2
   },
   "file_extension": ".py",
   "mimetype": "text/x-python",
   "name": "python",
   "nbconvert_exporter": "python",
   "pygments_lexer": "ipython2",
   "version": "2.7.10"
  }
 },
 "nbformat": 4,
 "nbformat_minor": 0
}
