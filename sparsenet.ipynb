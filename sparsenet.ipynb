{
 "cells": [
  {
   "cell_type": "markdown",
   "metadata": {
    "collapsed": true
   },
   "source": [
    "# Sparse Hebbian Learning : reproducing SparseNet"
   ]
  },
  {
   "cell_type": "code",
   "execution_count": 5,
   "metadata": {
    "collapsed": false
   },
   "outputs": [
    {
     "name": "stdout",
     "output_type": "stream",
     "text": [
      "The autoreload extension is already loaded. To reload it, use:\n",
      "  %reload_ext autoreload\n"
     ]
    }
   ],
   "source": [
    "%load_ext autoreload\n",
    "%autoreload 2"
   ]
  },
  {
   "cell_type": "code",
   "execution_count": 6,
   "metadata": {
    "collapsed": false
   },
   "outputs": [
    {
     "name": "stdout",
     "output_type": "stream",
     "text": [
      " This is a collection of python scripts to test learning strategies to efficiently code natural image patches.  This is here restricted  to the framework of the [SparseNet algorithm from Bruno Olshausen](http://redwood.berkeley.edu/bruno/sparsenet/).\n"
     ]
    }
   ],
   "source": [
    "%run setup.py --description"
   ]
  },
  {
   "cell_type": "code",
   "execution_count": 7,
   "metadata": {
    "collapsed": true
   },
   "outputs": [],
   "source": [
    "%matplotlib inline\n",
    "import matplotlib.pyplot as plt\n",
    "import numpy as np\n",
    "np.set_printoptions(precision=2, suppress=True)"
   ]
  },
  {
   "cell_type": "code",
   "execution_count": null,
   "metadata": {
    "collapsed": true
   },
   "outputs": [],
   "source": [
    "from shl_scripts import SHL\n",
    "DEBUG_DOWNSCALE, verbose = 10, 0\n",
    "DEBUG_DOWNSCALE, verbose = 1, 0\n",
    "DEBUG_DOWNSCALE, verbose = 10, 100"
   ]
  },
  {
   "cell_type": "markdown",
   "metadata": {},
   "source": [
    "## Homeostasis à-la-SparseNet"
   ]
  },
  {
   "cell_type": "code",
   "execution_count": null,
   "metadata": {
    "collapsed": false,
    "scrolled": true
   },
   "outputs": [
    {
     "name": "stdout",
     "output_type": "stream",
     "text": [
      "Extracting data...\b\b\b\b\b\b\b\b\b\b\b\b\b\b\b\b\b\b\b\b\b\b\b\b\b\b\b\b\b\b\b\b\b\b\b\b\b\b\b\b\bHdn_objn35.jpg, Bdn_natu5.jpg, Bdn_land753.jpg, Bdn_text4.jpg, Fda_A517086.jpg, Mdn_nat389.jpg, Hda_obj176.jpg, Mdn_nat164.jpg, Mda_urb580.jpg, Mda_hous47.jpg, Fdn_land805.jpg, Hdn_N127048.jpg, Fda_A487031.jpg, Bdn_land378.jpg, Fda_arnat64.jpg, Mdn_natu35.jpg, Bdn_nat1157.jpg, Fda_street29.jpg, Mdn_nat1253.jpg, Mdn_text90.jpg, Bdn_natu133.jpg, Hda_obj454.jpg, Bda_urb286.jpg, Bda_room178.jpg, Fdn_bea25.jpg, Mda_art517.jpg, Hdn_natu370.jpg, Bda_gre607.jpg, Mda_archi277.jpg, Mda_art1136.jpg, Mda_urb515.jpg, Bda_room40.jpg, Bdn_land375.jpg, Hda_obj433.jpg, Hdn_objn190.jpg, Hdn_objn18.jpg, Mdn_N228075.jpg, Fda_A683068.jpg, Hdn_objn30.jpg, Mdn_N228077.jpg, Mdn_N344039.jpg, Mda_art599.jpg, Hda_obj25.jpg, Fda_urb404.jpg, Mda_art1680.jpg, Mda_art337.jpg, Hdn_objn227.jpg, Bdn_text16.jpg, Fdn_land241.jpg, Hda_obj292.jpg, Bdn_natu676.jpg, Mda_archi100.jpg, Mdn_N295007.jpg, Mdn_nat763.jpg, Mdn_N344067.jpg, Fda_city49.jpg, Mdn_N344026.jpg, Fda_urb306.jpg, Bdn_natu160.jpg, Hdn_objn200.jpg, Mda_art1665.jpg, Hda_obj293.jpg, Mda_art475.jpg, Fda_art709.jpg, Mda_archi42.jpg, Hda_obj450.jpg, Mdn_N344035.jpg, Hdn_objn33.jpg, Bdn_nat915.jpg, Mdn_N344038.jpg, Hda_obj93.jpg, Hdn_objn177.jpg, Hda_obj414.jpg, Fdn_natu649.jpg, Hda_obj81.jpg, Fdn_land135.jpg, Fdn_bea5.jpg, Fda_A487089.jpg, Mda_urb982.jpg, Fda_A277094.jpg, Fdn_nat322.jpg, Mdn_natu412.jpg, Hda_room421.jpg, Hdn_objn47.jpg, Mda_archi37.jpg, Hdn_objn115.jpg, Mda_art1528.jpg, Bda_art1156.jpg, Bdn_for153.jpg, Bdn_nat331.jpg, Bda_art1157.jpg, Mdn_natu302.jpg, Mdn_natu172.jpg, Hda_obj91.jpg, Fdn_open6.jpg, Bdn_objn35.jpg, Mda_hexp26.jpg, Bdn_nat250.jpg, Fdn_open17.jpg, Fda_art358.jpg, Fdn_natu176.jpg, Fda_osun36.jpg, Fda_A803044.jpg, Bda_room4.jpg, Bdn_N44065.jpg, Fda_A805045.jpg, Fda_A673086.jpg, Fda_art1015.jpg, Fdn_bea10.jpg, Hda_int168.jpg, Fdn_land951.jpg, Bda_int767.jpg, Bdn_text27.jpg, Fda_urb752.jpg, Fda_art1180.jpg, Mdn_N328089.jpg, Hdn_objn43.jpg, Mda_art438.jpg, Mdn_land159.jpg, Hda_obj97.jpg, Mdn_N266002.jpg, Hdn_objn173.jpg, Bdn_for96.jpg, Mdn_nat492.jpg, Hda_obj418.jpg, Fdn_bea33.jpg, Bda_art629.jpg, Bda_room141.jpg, Hdn_for104.jpg, Bda_room452.jpg, Mda_archi233.jpg, Hdn_natu337.jpg, Mda_art242.jpg, Fda_art36.jpg, Bdn_text22.jpg, Fdn_open19.jpg, Hdn_objn38.jpg, Hdn_objn45.jpg, Hda_obj84.jpg, Fdn_open67.jpg, Mdn_N228004.jpg, Fda_art246.jpg, Hdn_objn66.jpg, Hda_obj1.jpg, Hda_obj2.jpg, Fda_enc51.jpg, Mda_urb659.jpg, Fdn_nat168.jpg, Bdn_text121.jpg, Fda_city83.jpg, Hdn_natu369.jpg, Mda_art376.jpg, Bdn_for82.jpg, Bda_art682.jpg, Bdn_nat306.jpg, Hdn_N124064.jpg, Hda_room425.jpg, Fda_A244068.jpg, Bdn_nat1164.jpg, Mdn_natu696.jpg, Fdn_bea1.jpg, Mda_gre90.jpg, Mda_art1312.jpg, Fdn_natu408.jpg, Bda_art685.jpg, Hda_obj7.jpg, Mda_hous31.jpg, Hda_obj390.jpg, Hdn_N152028.jpg, Bda_art621.jpg, Bdn_natu977.jpg, Hda_obj59.jpg, Mda_art675.jpg, Bda_room133.jpg, Bda_art1263.jpg, Fdn_land356.jpg, Fdn_nat895.jpg, Hda_obj56.jpg, Mda_art22.jpg, Mdn_natu590.jpg, Bda_art1185.jpg, Mda_art175.jpg, Mda_urb447.jpg, Fdn_land353.jpg, Bda_art1256.jpg, Bda_art971.jpg, Mda_urb214.jpg, Hdn_natu623.jpg, Bdn_land71.jpg, Hdn_natu354.jpg, Fdn_open18.jpg, Hdn_objn122.jpg, Mdn_natu961.jpg, Fdn_land12.jpg, Mda_urb324.jpg, Bda_art1193.jpg, Bdn_text3.jpg, Mdn_for83.jpg, Bdn_land377.jpg, Hdn_objn32.jpg, \n",
      "Data is of shape : (200000, 100)done in 18.12s.Learning the dictionary... Training on 200000 patches... Iteration   0 /   5000 (elapsed time:   0s,  0.0mn)\n",
      "Norm  1.0 1.0 12\n",
      "Gain  1.0 1.0 0\n",
      "Iteration  50 /   5000 (elapsed time:   7s,  0.1mn)\n",
      "Norm  0.999390856027 1.001409347 44\n",
      "Gain  1.0 1.0 0\n",
      "Iteration  100 /   5000 (elapsed time:  14s,  0.2mn)\n",
      "Norm  0.99923363812 1.00141647246 91\n",
      "Gain  1.0 1.0 0\n",
      "Iteration  150 /   5000 (elapsed time:  21s,  0.4mn)\n",
      "Norm  0.999756635483 1.00099700209 55\n",
      "Gain  1.0 1.0 0\n",
      "Iteration  200 /   5000 (elapsed time:  28s,  0.5mn)\n",
      "Norm  0.999333154785 1.00194423188 59\n",
      "Gain  1.0 1.0 0\n",
      "Iteration  250 /   5000 (elapsed time:  35s,  0.6mn)\n",
      "Norm  0.99947851665 1.00128317694 85\n",
      "Gain  1.0 1.0 0\n",
      "Iteration  300 /   5000 (elapsed time:  43s,  0.7mn)\n",
      "Norm  0.999648964201 1.00139528379 61\n",
      "Gain  1.0 1.0 0\n",
      "Iteration  350 /   5000 (elapsed time:  50s,  0.8mn)\n",
      "Norm  0.999513761504 1.00221949195 60\n",
      "Gain  1.0 1.0 0\n",
      "Iteration  400 /   5000 (elapsed time:  57s,  1.0mn)\n",
      "Norm  0.998245958517 1.00188019542 72\n",
      "Gain  1.0 1.0 0\n",
      "Iteration  450 /   5000 (elapsed time:  64s,  1.1mn)"
     ]
    }
   ],
   "source": [
    "shl = SHL(DEBUG_DOWNSCALE=DEBUG_DOWNSCALE, eta_homeo=0,\n",
    "          learning_algorithm='omp', verbose=verbose)\n",
    "dico = shl.learn_dico()\n",
    "_ = shl.show_dico(dico)"
   ]
  },
  {
   "cell_type": "code",
   "execution_count": null,
   "metadata": {
    "collapsed": false,
    "scrolled": true
   },
   "outputs": [],
   "source": [
    "for eta in np.logspace(-8, -2, 5, base=10):\n",
    "    shl = SHL(DEBUG_DOWNSCALE=DEBUG_DOWNSCALE, \n",
    "              learning_algorithm='omp', eta=eta, verbose=verbose)\n",
    "    dico = shl.learn_dico()\n",
    "    _ = shl.show_dico(dico)"
   ]
  },
  {
   "cell_type": "code",
   "execution_count": null,
   "metadata": {
    "collapsed": false,
    "scrolled": true
   },
   "outputs": [],
   "source": [
    "for eta_homeo in np.logspace(-8, -2, 5, base=10):\n",
    "    shl = SHL(DEBUG_DOWNSCALE=DEBUG_DOWNSCALE, \n",
    "              learning_algorithm='omp', \n",
    "              transform_n_nonzero_coefs=10, eta_homeo=eta_homeo, verbose=verbose)\n",
    "    dico = shl.learn_dico()\n",
    "    _ = shl.show_dico(dico)"
   ]
  },
  {
   "cell_type": "code",
   "execution_count": null,
   "metadata": {
    "collapsed": false,
    "scrolled": true
   },
   "outputs": [],
   "source": [
    "%run setup.py --long-description"
   ]
  },
  {
   "cell_type": "markdown",
   "metadata": {},
   "source": [
    "## Version used"
   ]
  },
  {
   "cell_type": "code",
   "execution_count": null,
   "metadata": {
    "collapsed": false
   },
   "outputs": [],
   "source": [
    "%install_ext http://raw.github.com/jrjohansson/version_information/master/version_information.py\n",
    "%load_ext version_information\n",
    "%version_information numpy"
   ]
  }
 ],
 "metadata": {
  "kernelspec": {
   "display_name": "Python 2",
   "language": "python",
   "name": "python2"
  },
  "language_info": {
   "codemirror_mode": {
    "name": "ipython",
    "version": 2
   },
   "file_extension": ".py",
   "mimetype": "text/x-python",
   "name": "python",
   "nbconvert_exporter": "python",
   "pygments_lexer": "ipython2",
   "version": "2.7.10"
  }
 },
 "nbformat": 4,
 "nbformat_minor": 0
}
