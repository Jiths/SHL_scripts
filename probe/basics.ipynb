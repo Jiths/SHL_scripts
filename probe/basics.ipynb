{
 "cells": [
  {
   "cell_type": "markdown",
   "metadata": {
    "collapsed": true,
    "deletable": true,
    "editable": true
   },
   "source": [
    "# Sparse Hebbian Learning: basics\n",
    "\n",
    "We are interested here in learning the \"optimal\" components of a set of images (let's say some \"natural\", usual images). As there is no supervisor to guide the learning, this is called unsupervised learning. Our basic hypothesis to find the best (\"optimal\") components will be to assume that *a priori* the most sparse is more plausible. We will implement the derived algorithm in this set of scripts.\n",
    "\n",
    "Here, we will show the basic operations that are implemented in this package. "
   ]
  },
  {
   "cell_type": "code",
   "execution_count": 1,
   "metadata": {
    "collapsed": true,
    "deletable": true,
    "editable": true
   },
   "outputs": [],
   "source": [
    "%load_ext autoreload\n",
    "%autoreload 2"
   ]
  },
  {
   "cell_type": "code",
   "execution_count": 2,
   "metadata": {
    "collapsed": true,
    "deletable": true,
    "editable": true
   },
   "outputs": [],
   "source": [
    "%matplotlib inline\n",
    "import matplotlib.pyplot as plt\n",
    "import numpy as np\n",
    "np.set_printoptions(precision=4, suppress=True)"
   ]
  },
  {
   "cell_type": "markdown",
   "metadata": {},
   "source": [
    "## experiments\n",
    "\n",
    "To test and control for the role of different parameters, we will have a first object (in the [shl_experiments.py](https://github.com/bicv/SHL_scripts/blob/master/shl_scripts/shl_experiments.py) script) that controls a learning experiment. It contains all relevant parameters, but can also keep a trace of the history of some statistics. This is useful to compare the relative efficiency of the different solutions.\n"
   ]
  },
  {
   "cell_type": "code",
   "execution_count": 3,
   "metadata": {
    "collapsed": false,
    "deletable": true,
    "editable": true
   },
   "outputs": [],
   "source": [
    "DEBUG_DOWNSCALE, verbose = 10, 0\n",
    "DEBUG_DOWNSCALE, verbose = 1, 10\n",
    "DEBUG_DOWNSCALE, verbose = 1, 0\n",
    "matname = 'vanilla'"
   ]
  },
  {
   "cell_type": "code",
   "execution_count": 4,
   "metadata": {
    "collapsed": false,
    "deletable": true,
    "editable": true
   },
   "outputs": [
    {
     "name": "stdout",
     "output_type": "stream",
     "text": [
      "Help on class SHL in module shl_scripts.shl_experiments:\n",
      "\n",
      "class SHL(builtins.object)\n",
      " |  Base class to define SHL experiments:\n",
      " |      - initialization\n",
      " |      - coding and learning\n",
      " |      - visualization\n",
      " |      - quantitative analysis\n",
      " |  \n",
      " |  Methods defined here:\n",
      " |  \n",
      " |  __init__(self, height=256, width=256, patch_size=(16, 16), database='database/', n_dictionary=324, learning_algorithm='mp', fit_tol=None, l0_sparseness=15, n_iter=16384, eta=0.01, eta_homeo=0.01, nb_quant=32, C=5.0, do_sym=False, alpha_homeo=0, max_patches=4096, batch_size=512, record_each=128, n_image=200, DEBUG_DOWNSCALE=1, verbose=0, data_cache='/tmp/data_cache')\n",
      " |      Initialize self.  See help(type(self)) for accurate signature.\n",
      " |  \n",
      " |  code(self, data, dico, coding_algorithm='mp', matname=None, **kwargs)\n",
      " |  \n",
      " |  get_data(self, name_database='serre07_distractors', seed=None, patch_norm=True, matname=None, **kwargs)\n",
      " |  \n",
      " |  learn_dico(self, data=None, name_database='serre07_distractors', matname=None, folder_exp=None, list_figures=[], **kwargs)\n",
      " |  \n",
      " |  plot_variance(self, sparse_code, data=None, algorithm=None, fname=None)\n",
      " |  \n",
      " |  plot_variance_histogram(self, sparse_code, data=None, algorithm=None, fname=None)\n",
      " |  \n",
      " |  show_dico(self, dico, title=None, fname=None)\n",
      " |  \n",
      " |  show_dico_in_order(self, dico, data=None, title=None, fname=None)\n",
      " |  \n",
      " |  time_plot(self, dico, variable='kurt', fname=None, N_nosample=1)\n",
      " |  \n",
      " |  ----------------------------------------------------------------------\n",
      " |  Data descriptors defined here:\n",
      " |  \n",
      " |  __dict__\n",
      " |      dictionary for instance variables (if defined)\n",
      " |  \n",
      " |  __weakref__\n",
      " |      list of weak references to the object (if defined)\n",
      "\n"
     ]
    }
   ],
   "source": [
    "from shl_scripts.shl_experiments import SHL\n",
    "help(SHL)"
   ]
  },
  {
   "cell_type": "code",
   "execution_count": 5,
   "metadata": {
    "collapsed": false,
    "deletable": true,
    "editable": true,
    "scrolled": true
   },
   "outputs": [],
   "source": [
    "shl = SHL(DEBUG_DOWNSCALE=DEBUG_DOWNSCALE, learning_algorithm='mp', verbose=verbose)\n",
    "data = shl.get_data(name_database='serre07_distractors', matname=matname)"
   ]
  },
  {
   "cell_type": "code",
   "execution_count": null,
   "metadata": {
    "collapsed": false,
    "deletable": true,
    "editable": true,
    "scrolled": true
   },
   "outputs": [
    {
     "name": "stdout",
     "output_type": "stream",
     "text": [
      "number of patches, size of patches =  (819200, 256)\n",
      "average of patches =  -9.81202966099e-20\n",
      "average energy of patches =  1.0\n",
      "std of the average of individual patches =  2.88094589621e-18\n"
     ]
    }
   ],
   "source": [
    "print('number of patches, size of patches = ', data.shape)\n",
    "print('average of patches = ', data.mean())\n",
    "print('average energy of patches = ', data.std(axis=0).mean())\n",
    "print('std of the average of individual patches = ', data.mean(axis=0).std())"
   ]
  },
  {
   "cell_type": "markdown",
   "metadata": {
    "deletable": true,
    "editable": true
   },
   "source": [
    "## learning\n",
    "\n",
    "The actual learning is done in a second object (here ``dico``) from which we can access another set of properties and functions  (see the [shl_learn.py](https://github.com/bicv/SHL_scripts/blob/master/shl_scripts/shl_learn.py) script):"
   ]
  },
  {
   "cell_type": "code",
   "execution_count": null,
   "metadata": {
    "collapsed": false,
    "deletable": true,
    "editable": true,
    "scrolled": false
   },
   "outputs": [],
   "source": [
    "list_figures = ['show_dico', 'plot_variance',  'plot_variance_histogram',  'time_plot_prob',  'time_plot_kurt',  'time_plot_var']\n",
    "\n",
    "dico = shl.learn_dico(data=data, list_figures=list_figures, matname=matname)"
   ]
  },
  {
   "cell_type": "code",
   "execution_count": null,
   "metadata": {
    "collapsed": false,
    "scrolled": true
   },
   "outputs": [],
   "source": [
    "help(dico)"
   ]
  },
  {
   "cell_type": "code",
   "execution_count": null,
   "metadata": {
    "collapsed": false
   },
   "outputs": [],
   "source": [
    "np.sum(dico.dictionary**2, axis=1), np.sqrt(np.sum(dico.dictionary**2, axis=1)), dico.dictionary.std(axis=0)\n"
   ]
  },
  {
   "cell_type": "markdown",
   "metadata": {
    "deletable": true,
    "editable": true
   },
   "source": [
    "## coding\n",
    "\n",
    "The learning itself is done via a gradient descent but is highly dependent on the coding / decoding algorithm. This belongs to a another function (in the [shl_encode.py](https://github.com/bicv/SHL_scripts/blob/master/shl_scripts/shl_encode.py) script)"
   ]
  },
  {
   "cell_type": "code",
   "execution_count": null,
   "metadata": {
    "collapsed": false,
    "deletable": true,
    "editable": true
   },
   "outputs": [],
   "source": [
    "code = shl.code(data, dico, matname=matname)\n",
    "print('number of codes, size of codewords = ', code.shape)\n",
    "print('average of codewords = ', code.mean())\n",
    "print('average energy of patches = ', code.std(axis=0).mean())\n",
    "print('std of the average of individual patches = ', code.mean(axis=0).std())"
   ]
  },
  {
   "cell_type": "code",
   "execution_count": null,
   "metadata": {
    "collapsed": false
   },
   "outputs": [],
   "source": [
    "print('size of dictionary = (number of filters, size of imagelets) = ', dico.dictionary.shape)\n",
    "print('average of filters = ', dico.dictionary.mean(axis=1).mean(), \n",
    "      '+/-',  dico.dictionary.mean(axis=1).std())\n",
    "print('average energy of filters = ', dico.dictionary.std(axis=1).mean(), \n",
    "      '+/-',  dico.dictionary.std(axis=1).std())"
   ]
  },
  {
   "cell_type": "code",
   "execution_count": null,
   "metadata": {
    "collapsed": false
   },
   "outputs": [],
   "source": [
    "patches = code @ dico.dictionary\n",
    "print('number of codes, size of reconstructed images = ', patches.shape)"
   ]
  },
  {
   "cell_type": "code",
   "execution_count": null,
   "metadata": {
    "collapsed": false,
    "deletable": true,
    "editable": true,
    "scrolled": false
   },
   "outputs": [],
   "source": [
    "error = data - patches\n",
    "print('average of residual patches = ', error.mean())\n",
    "print('average energy of residual patches = ', error.std(axis=1).mean())\n",
    "print('std of the average of individual patches = ', error.mean(axis=0).std())"
   ]
  },
  {
   "cell_type": "markdown",
   "metadata": {
    "deletable": true,
    "editable": true
   },
   "source": [
    "## Version used"
   ]
  },
  {
   "cell_type": "code",
   "execution_count": null,
   "metadata": {
    "collapsed": false,
    "deletable": true,
    "editable": true
   },
   "outputs": [],
   "source": [
    "%load_ext version_information\n",
    "%version_information numpy, shl_scripts"
   ]
  }
 ],
 "metadata": {
  "kernelspec": {
   "display_name": "Python 3",
   "language": "python",
   "name": "python3"
  },
  "language_info": {
   "codemirror_mode": {
    "name": "ipython",
    "version": 3
   },
   "file_extension": ".py",
   "mimetype": "text/x-python",
   "name": "python",
   "nbconvert_exporter": "python",
   "pygments_lexer": "ipython3",
   "version": "3.6.1"
  }
 },
 "nbformat": 4,
 "nbformat_minor": 1
}
