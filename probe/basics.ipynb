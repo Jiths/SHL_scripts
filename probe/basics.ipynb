{
 "cells": [
  {
   "cell_type": "markdown",
   "metadata": {
    "collapsed": true
   },
   "source": [
    "# Sparse Hebbian Learning: basics\n",
    "\n",
    "We are interested here in learning the \"optimal\" components of a set of images (let's say some \"natural\", usual images). As there is no supervisor to guide the learning, this is called unsupervised learning. Our basic hypothesis to find the best (\"optimal\") components will be to assume that *a priori* the most sparse is more plausible. We will implement the derived algorithm in this set of scripts.\n",
    "\n",
    "Here, we will show the basic operations that are implemented in this package. "
   ]
  },
  {
   "cell_type": "code",
   "execution_count": 1,
   "metadata": {},
   "outputs": [],
   "source": [
    "%load_ext autoreload\n",
    "%autoreload 2"
   ]
  },
  {
   "cell_type": "code",
   "execution_count": 2,
   "metadata": {},
   "outputs": [],
   "source": [
    "%matplotlib inline\n",
    "import matplotlib.pyplot as plt\n",
    "import numpy as np\n",
    "np.set_printoptions(precision=4, suppress=True)"
   ]
  },
  {
   "cell_type": "markdown",
   "metadata": {},
   "source": [
    "## experiments\n",
    "\n",
    "To test and control for the role of different parameters, we will have a first object (in the [shl_experiments.py](https://github.com/bicv/SHL_scripts/blob/master/shl_scripts/shl_experiments.py) script) that controls a learning experiment. It contains all relevant parameters, but can also keep a trace of the history of some statistics. This is useful to compare the relative efficiency of the different solutions.\n"
   ]
  },
  {
   "cell_type": "code",
   "execution_count": 3,
   "metadata": {},
   "outputs": [],
   "source": [
    "DEBUG_DOWNSCALE, verbose = 10, 0\n",
    "DEBUG_DOWNSCALE, verbose = 1, 0\n",
    "DEBUG_DOWNSCALE, verbose = 1, 10\n",
    "matname = 'vanilla'"
   ]
  },
  {
   "cell_type": "code",
   "execution_count": 4,
   "metadata": {},
   "outputs": [
    {
     "name": "stdout",
     "output_type": "stream",
     "text": [
      "Help on class SHL in module shl_scripts.shl_experiments:\n",
      "\n",
      "class SHL(builtins.object)\n",
      " |  Base class to define SHL experiments:\n",
      " |      - initialization\n",
      " |      - coding and learning\n",
      " |      - visualization\n",
      " |      - quantitative analysis\n",
      " |  \n",
      " |  Methods defined here:\n",
      " |  \n",
      " |  __init__(self, height=256, width=256, patch_size=(16, 16), datapath='database/', n_dictionary=324, learning_algorithm='mp', fit_tol=None, l0_sparseness=15, n_iter=4096, eta=0.005, eta_homeo=0.01, nb_quant=128, C=0.0, do_sym=False, alpha_homeo=0.0, max_patches=4096, batch_size=128, record_each=128, n_image=200, DEBUG_DOWNSCALE=1, verbose=0, data_cache='/Users/laurentperrinet/tmp/data_cache')\n",
      " |      Initialize self.  See help(type(self)) for accurate signature.\n",
      " |  \n",
      " |  code(self, data, dico, coding_algorithm='mp', matname=None, l0_sparseness=None)\n",
      " |  \n",
      " |  decode(self, sparse_code, dico)\n",
      " |  \n",
      " |  get_data(self, name_database='serre07_distractors', seed=None, patch_norm=True, matname=None)\n",
      " |  \n",
      " |  learn_dico(self, dictionary=None, P_cum=None, data=None, name_database='serre07_distractors', matname=None, record_each=None, folder_exp=None, list_figures=[], fname=None)\n",
      " |  \n",
      " |  plot_variance(self, sparse_code, data=None, algorithm=None, fname=None)\n",
      " |  \n",
      " |  plot_variance_histogram(self, sparse_code, data=None, algorithm=None, fname=None)\n",
      " |  \n",
      " |  show_dico(self, dico, data=None, title=None, fname=None, dpi=200)\n",
      " |  \n",
      " |  show_dico_in_order(self, dico, data=None, title=None, fname=None, dpi=200)\n",
      " |  \n",
      " |  time_plot(self, dico, variable='kurt', fname=None, N_nosample=1)\n",
      " |  \n",
      " |  ----------------------------------------------------------------------\n",
      " |  Data descriptors defined here:\n",
      " |  \n",
      " |  __dict__\n",
      " |      dictionary for instance variables (if defined)\n",
      " |  \n",
      " |  __weakref__\n",
      " |      list of weak references to the object (if defined)\n",
      "\n"
     ]
    }
   ],
   "source": [
    "from shl_scripts.shl_experiments import SHL\n",
    "help(SHL)"
   ]
  },
  {
   "cell_type": "code",
   "execution_count": null,
   "metadata": {},
   "outputs": [],
   "source": [
    "!mkdir -p ~/tmp"
   ]
  },
  {
   "cell_type": "code",
   "execution_count": null,
   "metadata": {
    "scrolled": false
   },
   "outputs": [
    {
     "name": "stdout",
     "output_type": "stream",
     "text": [
      "No cache found /Users/laurentperrinet/tmp/data_cache/vanilla_data: Extracting data... database/\n",
      "Extracting data..Hdn_objn35.jpg, Mdn_land743.jpg, Bda_room188.jpg, Mda_urb982.jpg, Hda_obj396.jpg, Bdn_text27.jpg, Fda_art1486.jpg, Fdn_for7.jpg, Hda_obj87.jpg, Bdn_text2.jpg, Bda_art1155.jpg, Hda_obj110.jpg, Hdn_N115084.jpg, Mdn_text38.jpg, Mdn_land313.jpg, Hda_obj81.jpg, Hdn_objn46.jpg, Bdn_nat1006.jpg, Bda_art685.jpg, Fda_arnat64.jpg, Bda_enc89.jpg, Bdn_nat846.jpg, Hdn_objn38.jpg, Fda_art1017.jpg, Hda_obj454.jpg, Bdn_text111.jpg, Bdn_text5.jpg, Fda_A223013.jpg, Bda_art904.jpg, Fda_A804076.jpg, Fda_art1249.jpg, Fda_urb404.jpg, Fda_street63.jpg, Mda_art1136.jpg, Fdn_open17.jpg, Mda_art337.jpg, Fda_A673086.jpg, Mdn_N344039.jpg, Fdn_nat895.jpg, Mdn_nat164.jpg, Mdn_natu696.jpg, Mdn_nat363.jpg, Hdn_objn23.jpg, Fda_A244068.jpg, Fdn_land353.jpg, Mdn_nat1247.jpg, Bda_art623.jpg, Hdn_objn18.jpg, Mda_art1680.jpg, Mda_art1084.jpg, Fdn_nat376.jpg, Fda_A683045.jpg, Mda_art509.jpg, Hdn_N115056.jpg, Mda_art361.jpg, Fdn_natu176.jpg, Hda_obj205.jpg, Fdn_open18.jpg, Bda_art1263.jpg, Hda_obj100.jpg, Mdn_for135.jpg, Fdn_natu799.jpg, Hda_obj94.jpg, Fdn_land290.jpg, Bdn_for96.jpg, Fdn_natu79.jpg, Hdn_N124065.jpg, Bda_int78.jpg, Fdn_land293.jpg, Hdn_objn44.jpg, Fdn_land83.jpg, Bdn_natu160.jpg, Fdn_natu919.jpg, Mdn_N228078.jpg, Bdn_land375.jpg, Mda_archi327.jpg, Fda_A731012.jpg, Bda_art1367.jpg, Mda_par104.jpg, Mdn_natu35.jpg, Bda_room43.jpg, Bdn_text121.jpg, Mda_archi422.jpg, Mdn_N347015.jpg, Fda_art1420.jpg, Fda_art336.jpg, Mdn_N295008.jpg, Bdn_land378.jpg, Mda_arnat70.jpg, Bdn_for23.jpg, Bdn_text119.jpg, Bda_room23.jpg, Bdn_natu676.jpg, Hdn_objn227.jpg, Fdn_land867.jpg, Mdn_natu590.jpg, Mda_art750.jpg, Hdn_objn33.jpg, Mda_gre163.jpg, Hda_obj450.jpg, Fda_urb540.jpg, Hdn_objn34.jpg, Fda_urb306.jpg, Hda_obj7.jpg, Mdn_N347003.jpg, Hda_obj88.jpg, Fda_A517086.jpg, Fda_A219084.jpg, Hdn_objn213.jpg, Bda_urb280.jpg, Fda_art36.jpg, Fda_art1015.jpg, Hdn_objn66.jpg, Fdn_open21.jpg, Bdn_objn152.jpg, Bda_urb286.jpg, Hdn_objn190.jpg, Bda_art673.jpg, Bdn_natu419.jpg, Mdn_natu425.jpg, Hdn_objn43.jpg, Mda_archi42.jpg, Bda_urb291.jpg, Bda_art1111.jpg, Fdn_land356.jpg, Fdn_nat297.jpg, Bda_art1067.jpg, Mdn_text113.jpg, Mda_urb324.jpg, Fda_A487089.jpg, Fdn_open5.jpg, Fda_art560.jpg, Bda_int767.jpg, Mda_art1030.jpg, Mdn_nat211.jpg, Bda_int46.jpg, Hdn_objn60.jpg, Mdn_N344035.jpg, Bdn_text106.jpg, Bdn_nat219.jpg, Mda_hous47.jpg, Bdn_objn94.jpg, Fda_A803044.jpg, Mda_hexp5.jpg, Mdn_land170.jpg, Mda_art547.jpg, Mdn_nat1253.jpg, Hda_obj433.jpg, Mda_art1665.jpg, Hdn_N124002.jpg, Hda_obj95.jpg, Bda_art1117.jpg, Hda_obj92.jpg, Mda_gre329.jpg, Fdn_nat1251.jpg, Hda_obj105.jpg, Bda_room165.jpg, Fda_A805085.jpg, Mda_arnat105.jpg, Mdn_nat954.jpg, Mdn_natu412.jpg, Fda_A673062.jpg, Fdn_open20.jpg, Hdn_objn112.jpg, Fda_A223024.jpg, Hda_int170.jpg, Fdn_bea2.jpg, Mda_hous31.jpg, "
     ]
    }
   ],
   "source": [
    "shl = SHL(DEBUG_DOWNSCALE=DEBUG_DOWNSCALE, learning_algorithm='mp', verbose=verbose)\n",
    "data = shl.get_data(name_database='serre07_distractors', matname=matname)"
   ]
  },
  {
   "cell_type": "code",
   "execution_count": null,
   "metadata": {
    "scrolled": true
   },
   "outputs": [],
   "source": [
    "print('number of patches, size of patches = ', data.shape)\n",
    "print('average of patches = ', data.mean(), ' +/- ', data.mean(axis=1).std())\n",
    "SE = np.sqrt(np.sum(data**2, axis=1))\n",
    "print('average energy of data = ', SE.mean(), '+/-', SE.std())"
   ]
  },
  {
   "cell_type": "markdown",
   "metadata": {},
   "source": [
    "## learning\n",
    "\n",
    "The actual learning is done in a second object (here ``dico``) from which we can access another set of properties and functions  (see the [shl_learn.py](https://github.com/bicv/SHL_scripts/blob/master/shl_scripts/shl_learn.py) script):"
   ]
  },
  {
   "cell_type": "code",
   "execution_count": null,
   "metadata": {
    "scrolled": false
   },
   "outputs": [],
   "source": [
    "list_figures = ['show_dico', 'plot_variance',  'plot_variance_histogram',  'time_plot_prob',  'time_plot_kurt',  'time_plot_var']\n",
    "\n",
    "dico = shl.learn_dico(data=data, list_figures=list_figures, matname=matname)"
   ]
  },
  {
   "cell_type": "code",
   "execution_count": null,
   "metadata": {
    "scrolled": false
   },
   "outputs": [],
   "source": [
    "help(dico)"
   ]
  },
  {
   "cell_type": "code",
   "execution_count": null,
   "metadata": {},
   "outputs": [],
   "source": [
    "print('size of dictionary = (number of filters, size of imagelets) = ', dico.dictionary.shape)\n",
    "print('average of filters = ',  dico.dictionary.mean(axis=1).mean(), \n",
    "      '+/-',  dico.dictionary.mean(axis=1).std())\n",
    "SE = np.sqrt(np.sum(dico.dictionary**2, axis=1))\n",
    "print('average energy of filters = ', SE.mean(), '+/-', SE.std())"
   ]
  },
  {
   "cell_type": "markdown",
   "metadata": {},
   "source": [
    "## coding\n",
    "\n",
    "The learning itself is done via a gradient descent but is highly dependent on the coding / decoding algorithm. This belongs to a another function (in the [shl_encode.py](https://github.com/bicv/SHL_scripts/blob/master/shl_scripts/shl_encode.py) script)"
   ]
  },
  {
   "cell_type": "code",
   "execution_count": null,
   "metadata": {},
   "outputs": [],
   "source": [
    "sparse_code = shl.code(data, dico, matname=matname, l0_sparseness=45)\n",
    "print('number of codes, size of codewords = ', sparse_code.shape)\n",
    "print('average of codewords = ', sparse_code.mean())\n",
    "print('average energy of codewords = ', sparse_code.std(axis=0).mean())\n",
    "print('std of the average of individual patches = ', sparse_code.mean(axis=0).std())"
   ]
  },
  {
   "cell_type": "code",
   "execution_count": null,
   "metadata": {},
   "outputs": [],
   "source": [
    "patches = sparse_code @ dico.dictionary\n",
    "print('number of codes, size of reconstructed images = ', patches.shape)"
   ]
  },
  {
   "cell_type": "code",
   "execution_count": null,
   "metadata": {
    "scrolled": false
   },
   "outputs": [],
   "source": [
    "error = data - patches\n",
    "print('average of residual patches = ', error.mean(), '+/-', error.mean(axis=1).std())\n",
    "SE = np.sqrt(np.sum(error**2, axis=1))\n",
    "print('average energy of residual = ', SE.mean(), '+/-', SE.std())"
   ]
  },
  {
   "cell_type": "markdown",
   "metadata": {},
   "source": [
    "## Version used"
   ]
  },
  {
   "cell_type": "code",
   "execution_count": null,
   "metadata": {},
   "outputs": [],
   "source": [
    "%load_ext version_information\n",
    "%version_information numpy, shl_scripts"
   ]
  }
 ],
 "metadata": {
  "kernelspec": {
   "display_name": "Python 3",
   "language": "python",
   "name": "python3"
  },
  "language_info": {
   "codemirror_mode": {
    "name": "ipython",
    "version": 3
   },
   "file_extension": ".py",
   "mimetype": "text/x-python",
   "name": "python",
   "nbconvert_exporter": "python",
   "pygments_lexer": "ipython3",
   "version": "3.6.3"
  },
  "toc": {
   "colors": {
    "hover_highlight": "#DAA520",
    "navigate_num": "#000000",
    "navigate_text": "#333333",
    "running_highlight": "#FF0000",
    "selected_highlight": "#FFD700",
    "sidebar_border": "#EEEEEE",
    "wrapper_background": "#FFFFFF"
   },
   "moveMenuLeft": true,
   "nav_menu": {
    "height": "102px",
    "width": "252px"
   },
   "navigate_menu": true,
   "number_sections": true,
   "sideBar": true,
   "threshold": 4,
   "toc_cell": false,
   "toc_section_display": "block",
   "toc_window_display": false,
   "widenNotebook": false
  }
 },
 "nbformat": 4,
 "nbformat_minor": 1
}
