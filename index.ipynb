{
 "cells": [
  {
   "cell_type": "markdown",
   "metadata": {
    "collapsed": true
   },
   "source": [
    "# Sparse Hebbian Learning "
   ]
  },
  {
   "cell_type": "code",
   "execution_count": 1,
   "metadata": {
    "collapsed": false
   },
   "outputs": [],
   "source": [
    "%load_ext autoreload\n",
    "%autoreload 2"
   ]
  },
  {
   "cell_type": "code",
   "execution_count": 2,
   "metadata": {
    "collapsed": false
   },
   "outputs": [
    {
     "name": "stdout",
     "output_type": "stream",
     "text": [
      " This is a collection of python scripts to test learning strategies to efficiently code natural image patches.  This is here restricted  to the framework of the [SparseNet algorithm from Bruno Olshausen](http://redwood.berkeley.edu/bruno/sparsenet/).\n"
     ]
    }
   ],
   "source": [
    "%run setup.py --description"
   ]
  },
  {
   "cell_type": "code",
   "execution_count": 3,
   "metadata": {
    "collapsed": true
   },
   "outputs": [],
   "source": [
    "%matplotlib inline\n",
    "import matplotlib.pyplot as plt\n",
    "import numpy as np\n",
    "np.set_printoptions(precision=2, suppress=True)"
   ]
  },
  {
   "cell_type": "code",
   "execution_count": 4,
   "metadata": {
    "collapsed": true
   },
   "outputs": [],
   "source": [
    "from shl_scripts import SHL\n",
    "DEBUG_DOWNSCALE, verbose = 10, 0\n",
    "DEBUG_DOWNSCALE, verbose = 1, 0\n",
    "DEBUG_DOWNSCALE, verbose = 10, 100"
   ]
  },
  {
   "cell_type": "code",
   "execution_count": null,
   "metadata": {
    "collapsed": false,
    "scrolled": false
   },
   "outputs": [
    {
     "name": "stdout",
     "output_type": "stream",
     "text": [
      "Extracting data...\b\b\b\b\b\b\b\b\b\b\b\b\b\b\b\b\b\b\b\b\b\b\b\b\b\b\b\b\b\b\b\b\b\b\b\b\b\b\b\b\bHda_obj396.jpg, Bdn_for23.jpg, Bdn_land759.jpg, Mdn_sharp49.jpg, Bdn_text106.jpg, Fdn_open2.jpg, Hda_obj252.jpg, Mdn_N295008.jpg, Hdn_objn34.jpg, Mda_hexp5.jpg, Bdn_text14.jpg, Mdn_N344039.jpg, Hda_obj324.jpg, Hda_obj76.jpg, Fdn_natu815.jpg, Hda_obj454.jpg, Hda_obj65.jpg, Mda_archi56.jpg, Hdn_objn30.jpg, Fda_urb794.jpg, Bdn_objn102.jpg, Fdn_bea1.jpg, Mda_gre163.jpg, Hdn_N124065.jpg, Fda_city89.jpg, Bda_art1158.jpg, Hdn_objn18.jpg, Hda_obj112.jpg, Fda_city49.jpg, Mdn_natu961.jpg, Mdn_land159.jpg, Bdn_for82.jpg, Bda_gre607.jpg, Mdn_N228004.jpg, Bdn_natu350.jpg, Hdn_N127068.jpg, Bda_int770.jpg, Fda_arnat64.jpg, Hdn_objn200.jpg, Fdn_natu649.jpg, Hdn_natu369.jpg, Hdn_text6.jpg, Bdn_land375.jpg, Fdn_nat168.jpg, Bdn_land872.jpg, Mda_urb324.jpg, Fda_urb342.jpg, Hda_room421.jpg, Hda_obj390.jpg, Fda_city14.jpg, Bdn_natu5.jpg, Mda_art600.jpg, Mdn_for35.jpg, Hdn_objn180.jpg, Bdn_land753.jpg, Hda_obj96.jpg, Bda_art142.jpg, Hda_obj348.jpg, Hdn_objn22.jpg, Fda_A804056.jpg, Bda_art623.jpg, Hdn_objn122.jpg, Hdn_objn98.jpg, Mdn_N344067.jpg, Mdn_nat367.jpg, Hdn_natu623.jpg, Fda_A805078.jpg, Bda_room185.jpg, Mdn_natu172.jpg, Fdn_land356.jpg, Fda_A803044.jpg, Fda_art772.jpg, Bdn_text111.jpg, Bda_room9.jpg, Mdn_for83.jpg, Mdn_text119.jpg, Mdn_N291070.jpg, Mdn_land743.jpg, Bda_int110.jpg, Bda_art1168.jpg, Hda_obj205.jpg, Fda_urb404.jpg, Fda_A805085.jpg, Hdn_objn137.jpg, Fdn_nat480.jpg, Bdn_text83.jpg, Fda_art560.jpg, Bda_room133.jpg, Bda_urb272.jpg, Hda_obj90.jpg, Mdn_for135.jpg, Fdn_land290.jpg, Hdn_objn28.jpg, Bda_int741.jpg, Fda_art246.jpg, Hdn_objn24.jpg, Bda_art1185.jpg, Bda_art685.jpg, Hdn_N124002.jpg, Hda_obj71.jpg, Hdn_objn32.jpg, Hda_obj93.jpg, Bdn_text20.jpg, Hdn_objn36.jpg, Mda_art675.jpg, Bdn_text1.jpg, Bda_int46.jpg, Fda_art336.jpg, Hda_obj433.jpg, Fda_enc51.jpg, Fdn_land317.jpg, Hdn_objn65.jpg, Hda_room431.jpg, Hdn_objn80.jpg, Mdn_nat1196.jpg, Hda_room425.jpg, Hdn_objn56.jpg, Hdn_objn38.jpg, Fdn_nat297.jpg, Fda_urb128.jpg, Hda_obj92.jpg, Mdn_for72.jpg, Fda_art1464.jpg, Fda_art1626.jpg, Bda_urb596.jpg, Bda_room188.jpg, Hda_obj295.jpg, Bda_room141.jpg, Mda_par140.jpg, Bdn_text23.jpg, Fdn_nat155.jpg, Hda_obj182.jpg, Fda_street29.jpg, Mdn_natu169.jpg, Mda_art337.jpg, Fdn_sclos3.jpg, Hda_obj111.jpg, Mda_art361.jpg, Mda_urb562.jpg, Fdn_nat283.jpg, Mdn_land94.jpg, Fdn_bea5.jpg, Mda_urb447.jpg, Bda_art671.jpg, Mda_archi289.jpg, Mda_art1084.jpg, Hdn_N115088.jpg, Hda_obj81.jpg, Mda_urb902.jpg, Mdn_land243.jpg, Mda_par135.jpg, Hda_obj74.jpg, Fdn_sclos4.jpg, Mdn_natu412.jpg, Hdn_objn37.jpg, Mda_urb659.jpg, Fda_art1529.jpg, Fdn_nat376.jpg, Fdn_land12.jpg, Mda_art1517.jpg, Bda_art1155.jpg, Fdn_land135.jpg, Fdn_open7.jpg, Bdn_text119.jpg, Fda_A223024.jpg, Mdn_nat256.jpg, Bda_room451.jpg, Bda_gre328.jpg, Bdn_nat1006.jpg, Hdn_objn40.jpg, Hda_obj88.jpg, Hda_int536.jpg, Fda_A463033.jpg, Fdn_open21.jpg, Bdn_text22.jpg, Hda_obj59.jpg, Mda_archi422.jpg, Fda_A804076.jpg, Fdn_land805.jpg, Mda_archi277.jpg, Fda_A244041.jpg, Mdn_land760.jpg, Hda_obj87.jpg, Bdn_text27.jpg, Fda_A223013.jpg, Mdn_land313.jpg, Bda_int30.jpg, Hda_obj345.jpg, Fdn_open67.jpg, Mdn_N228078.jpg, Hdn_objn177.jpg, Fda_A698003.jpg, Mdn_N295007.jpg, Mda_archi233.jpg, Hda_obj265.jpg, Hdn_objn213.jpg, Fdn_bea39.jpg, Bda_room40.jpg, Mda_archi327.jpg, Fda_art1420.jpg, \n",
      "Data is of shape : (200000, 100)done in 20.17s.Learning the dictionary... Training on 200000 patches... Iteration   0 /   5000 (elapsed time:   0s,  0.0mn)\n",
      "Norm  1.0 1.0 49\n",
      "Gain  1.0 1.0 0\n",
      "Iteration  50 /   5000 (elapsed time:   7s,  0.1mn)\n",
      "Norm  0.999427839767 1.00144994329 11\n",
      "Gain  0.986234989815 1.01318715209 88\n",
      "Iteration  100 /   5000 (elapsed time:  16s,  0.3mn)\n",
      "Norm  0.998297323378 1.0012468178 73\n",
      "Gain  0.989144859682 1.01876525018 96\n",
      "Iteration  150 /   5000 (elapsed time:  23s,  0.4mn)\n",
      "Norm  0.999488900586 1.001297127 84\n",
      "Gain  0.980229802346 1.01096838846 91\n",
      "Iteration  200 /   5000 (elapsed time:  30s,  0.5mn)\n",
      "Norm  0.999051176566 1.00169455257 39\n",
      "Gain  0.980877955402 1.0225443825 88\n",
      "Iteration  250 /   5000 (elapsed time:  37s,  0.6mn)\n",
      "Norm  0.998797300759 1.00134051871 73\n",
      "Gain  0.986816777167 1.01571377032 24\n",
      "Iteration  300 /   5000 (elapsed time:  45s,  0.8mn)\n",
      "Norm  0.998916765637 1.00132235725 24\n",
      "Gain  0.979602421227 1.01568449392 101\n",
      "Iteration  350 /   5000 (elapsed time:  52s,  0.9mn)\n",
      "Norm  0.99931540635 1.00136027243 63\n",
      "Gain  0.985417349292 1.01835273452 107\n",
      "Iteration  400 /   5000 (elapsed time:  60s,  1.0mn)\n",
      "Norm  0.999032931958 1.00179832876 60\n",
      "Gain  0.979224297971 1.02086810576 26\n",
      "Iteration  450 /   5000 (elapsed time:  67s,  1.1mn)\n",
      "Norm  0.998942008603 1.00128379785 67\n",
      "Gain  0.983888692022 1.02529995082 103\n",
      "Iteration  500 /   5000 (elapsed time:  75s,  1.3mn)\n",
      "Norm  0.998726589748 1.00152980391 33\n",
      "Gain  0.978594499941 1.01601687614 107\n",
      "Iteration  550 /   5000 (elapsed time:  83s,  1.4mn)\n",
      "Norm  0.998699054035 1.00112949741 24\n",
      "Gain  0.976259781368 1.01931528518 26\n",
      "Iteration  600 /   5000 (elapsed time:  91s,  1.5mn)\n",
      "Norm  0.998627879536 1.00126749183 85\n",
      "Gain  0.978336145206 1.0189784491 94\n",
      "Iteration  650 /   5000 (elapsed time:  99s,  1.7mn)\n",
      "Norm  0.998050913628 1.00114427855 63\n",
      "Gain  0.976342004922 1.02109430595 23\n",
      "Iteration  700 /   5000 (elapsed time:  107s,  1.8mn)\n",
      "Norm  0.999160360463 1.00177910001 87\n",
      "Gain  0.978612852566 1.02168217951 26\n",
      "Iteration  750 /   5000 (elapsed time:  116s,  1.9mn)\n",
      "Norm  0.999069221706 1.00123907618 38\n",
      "Gain  0.977037414507 1.02431496822 94\n",
      "Iteration  800 /   5000 (elapsed time:  125s,  2.1mn)\n",
      "Norm  0.998460481147 1.00139214111 24\n",
      "Gain  0.977811052951 1.02769313151 48\n",
      "Iteration  850 /   5000 (elapsed time:  134s,  2.2mn)\n",
      "Norm  0.998602143327 1.00156763068 79\n",
      "Gain  0.974514688007 1.02789772058 120\n",
      "Iteration  900 /   5000 (elapsed time:  143s,  2.4mn)\n",
      "Norm  0.998865718471 1.00161002995 16\n",
      "Gain  0.974386237447 1.03067004842 96\n",
      "Iteration  950 /   5000 (elapsed time:  152s,  2.5mn)\n",
      "Norm  0.997974628817 1.00192799405 24\n",
      "Gain  0.971086079602 1.02282925806 51\n",
      "Iteration  1000 /   5000 (elapsed time:  161s,  2.7mn)\n",
      "Norm  0.998309036475 1.00161129836 94\n",
      "Gain  0.975385352719 1.02684939899 29\n",
      "Iteration  1050 /   5000 (elapsed time:  170s,  2.8mn)\n",
      "Norm  0.998518816734 1.00152617594 57\n",
      "Gain  0.976237388648 1.02446803415 54\n",
      "Iteration  1100 /   5000 (elapsed time:  179s,  3.0mn)\n",
      "Norm  0.99878119977 1.00184006038 24\n",
      "Gain  0.968153577335 1.0216163085 83\n",
      "Iteration  1150 /   5000 (elapsed time:  188s,  3.1mn)\n",
      "Norm  0.997541951588 1.00141065461 64\n",
      "Gain  0.975778093705 1.04032603822 57\n",
      "Iteration  1200 /   5000 (elapsed time:  196s,  3.3mn)\n",
      "Norm  0.998213538053 1.00130583134 70\n",
      "Gain  0.980559587454 1.02069672073 33\n",
      "Iteration  1250 /   5000 (elapsed time:  206s,  3.4mn)\n",
      "Norm  0.998613054437 1.00233846387 7\n",
      "Gain  0.960472021117 1.02560446514 96\n",
      "Iteration  1300 /   5000 (elapsed time:  214s,  3.6mn)\n",
      "Norm  0.996667764578 1.00180302707 64\n",
      "Gain  0.972920720534 1.05582532037 57\n",
      "Iteration  1350 /   5000 (elapsed time:  223s,  3.7mn)\n",
      "Norm  0.99807566678 1.00186386075 91\n",
      "Gain  0.971019079146 1.03496731787 31\n",
      "Iteration  1400 /   5000 (elapsed time:  232s,  3.9mn)\n",
      "Norm  0.99779923264 1.00210113051 71\n",
      "Gain  0.961791329595 1.03784108181 7\n",
      "Iteration  1450 /   5000 (elapsed time:  240s,  4.0mn)\n",
      "Norm  0.998121598496 1.00219308459 68\n",
      "Gain  0.969332639146 1.02961165872 14\n",
      "Iteration  1500 /   5000 (elapsed time:  248s,  4.1mn)\n",
      "Norm  0.99815706541 1.00261684274 54\n",
      "Gain  0.961562685415 1.03801672046 57\n",
      "Iteration  1550 /   5000 (elapsed time:  255s,  4.3mn)\n",
      "Norm  0.997935365923 1.00203239453 89\n",
      "Gain  0.972371138267 1.03754796431 7\n",
      "Iteration  1600 /   5000 (elapsed time:  264s,  4.4mn)\n",
      "Norm  0.997911619161 1.001785429 4\n",
      "Gain  0.940896945468 1.03333059941 31\n",
      "Iteration  1650 /   5000 (elapsed time:  271s,  4.5mn)\n",
      "Norm  0.997689178197 1.00225931076 64\n",
      "Gain  0.970382366192 1.06122895854 57\n",
      "Iteration  1700 /   5000 (elapsed time:  279s,  4.7mn)\n",
      "Norm  0.99850909509 1.00310845295 73\n",
      "Gain  0.967606684353 1.03367696236 14\n",
      "Iteration  1750 /   5000 (elapsed time:  286s,  4.8mn)\n",
      "Norm  0.997409733888 1.00326086357 46\n",
      "Gain  0.962674106814 1.02966930142 8\n",
      "Iteration  1800 /   5000 (elapsed time:  293s,  4.9mn)\n",
      "Norm  0.997429898246 1.00213584985 64\n",
      "Gain  0.968012549389 1.03018842462 28\n",
      "Iteration  1850 /   5000 (elapsed time:  301s,  5.0mn)\n",
      "Norm  0.998871227461 1.00209065396 69\n",
      "Gain  0.972509797239 1.04464151627 57\n",
      "Iteration  1900 /   5000 (elapsed time:  309s,  5.2mn)\n",
      "Norm  0.997721330337 1.00213151768 5\n",
      "Gain  0.970389873945 1.03792894382 54\n",
      "Iteration  1950 /   5000 (elapsed time:  318s,  5.3mn)\n",
      "Norm  0.997748210011 1.00243603623 85\n",
      "Gain  0.939708607662 1.04131737053 6\n",
      "Iteration  2000 /   5000 (elapsed time:  324s,  5.4mn)\n",
      "Norm  0.993436871248 1.00171997949 64\n",
      "Gain  0.961139826101 1.06965372358 57\n",
      "Iteration  2050 /   5000 (elapsed time:  332s,  5.5mn)\n",
      "Norm  0.998461311297 1.00282627539 53\n",
      "Gain  0.956831835077 1.03397939334 46\n",
      "Iteration  2100 /   5000 (elapsed time:  339s,  5.7mn)\n",
      "Norm  0.997933588734 1.0027943386 52\n",
      "Gain  0.963837198034 1.03568893616 6\n",
      "Iteration  2150 /   5000 (elapsed time:  345s,  5.8mn)\n",
      "Norm  0.996972261193 1.00413029645 57\n",
      "Gain  0.943323539632 1.04002686197 21\n",
      "Iteration  2200 /   5000 (elapsed time:  351s,  5.9mn)\n",
      "Norm  0.997974702599 1.00282019178 60\n",
      "Gain  0.971402813183 1.05278824504 57\n",
      "Iteration  2250 /   5000 (elapsed time:  357s,  6.0mn)\n",
      "Norm  0.99828775773 1.00268874301 70\n",
      "Gain  0.958051474696 1.03936102779 43\n",
      "Iteration  2300 /   5000 (elapsed time:  363s,  6.1mn)\n",
      "Norm  0.997347105764 1.00303532986 27\n",
      "Gain  0.948806089636 1.03367522509 88\n",
      "Iteration  2350 /   5000 (elapsed time:  369s,  6.2mn)\n",
      "Norm  0.997217064461 1.00295076058 62\n",
      "Gain  0.963222605898 1.05345862307 57\n",
      "Iteration  2400 /   5000 (elapsed time:  376s,  6.3mn)\n",
      "Norm  0.997831158563 1.00305200991 27\n",
      "Gain  0.968200653447 1.03794461348 46\n",
      "Iteration  2450 /   5000 (elapsed time:  382s,  6.4mn)\n",
      "Norm  0.997859656589 1.00305338671 58\n",
      "Gain  0.947028676592 1.02877980448 29\n",
      "Iteration  2500 /   5000 (elapsed time:  389s,  6.5mn)\n",
      "Norm  0.997238518716 1.00218817332 42\n",
      "Gain  0.960735020144 1.04293791041 47\n",
      "Iteration  2550 /   5000 (elapsed time:  396s,  6.6mn)\n",
      "Norm  0.997311754913 1.00238501774 55\n",
      "Gain  0.960547815131 1.03636639245 46\n",
      "Iteration  2600 /   5000 (elapsed time:  402s,  6.7mn)\n",
      "Norm  0.997812288103 1.00320220293 12\n",
      "Gain  0.956833309307 1.04268369789 66\n",
      "Iteration  2650 /   5000 (elapsed time:  410s,  6.8mn)\n",
      "Norm  0.997127391051 1.00261238994 33\n",
      "Gain  0.957515826281 1.04102016001 47\n",
      "Iteration  2700 /   5000 (elapsed time:  416s,  6.9mn)\n",
      "Norm  0.998175805573 1.0030450542 86\n",
      "Gain  0.966534747395 1.04375883057 114\n",
      "Iteration  2750 /   5000 (elapsed time:  424s,  7.1mn)\n",
      "Norm  0.996929135007 1.0024996598 34\n",
      "Gain  0.967050677389 1.03079701704 96\n",
      "Iteration  2800 /   5000 (elapsed time:  432s,  7.2mn)\n",
      "Norm  0.998376006867 1.00293480242 46\n",
      "Gain  0.967150896744 1.04904282517 120\n",
      "Iteration  2850 /   5000 (elapsed time:  440s,  7.3mn)\n",
      "Norm  0.997676873656 1.00189264844 16\n",
      "Gain  0.962147742625 1.03629205356 76\n",
      "Iteration  2900 /   5000 (elapsed time:  449s,  7.5mn)\n",
      "Norm  0.997318201095 1.00301643672 1\n",
      "Gain  0.951688563049 1.03724867086 47\n",
      "Iteration  2950 /   5000 (elapsed time:  458s,  7.6mn)\n",
      "Norm  0.998227430093 1.00219933668 33\n",
      "Gain  0.973502777496 1.03553005147 120\n",
      "Iteration  3000 /   5000 (elapsed time:  467s,  7.8mn)\n",
      "Norm  0.996867852388 1.00233321127 54\n",
      "Gain  0.956060799233 1.03774467658 68\n",
      "Iteration  3050 /   5000 (elapsed time:  475s,  7.9mn)\n",
      "Norm  0.997288050073 1.00184344278 33\n",
      "Gain  0.962816636195 1.04360319001 19\n",
      "Iteration  3100 /   5000 (elapsed time:  484s,  8.1mn)\n",
      "Norm  0.997090149088 1.00223654371 64\n",
      "Gain  0.961734496805 1.04023395658 108\n",
      "Iteration  3150 /   5000 (elapsed time:  492s,  8.2mn)\n",
      "Norm  0.997410595905 1.00373775888 33\n",
      "Gain  0.957358253466 1.04218942918 16\n",
      "Iteration  3200 /   5000 (elapsed time:  500s,  8.3mn)\n",
      "Norm  0.995729194932 1.00240704551 64\n",
      "Gain  0.959110300263 1.03882230696 48\n",
      "Iteration  3250 /   5000 (elapsed time:  508s,  8.5mn)\n",
      "Norm  0.997326756588 1.00407661889 97\n",
      "Gain  0.961233819353 1.03546847982 12\n",
      "Iteration  3300 /   5000 (elapsed time:  516s,  8.6mn)\n",
      "Norm  0.997434361879 1.00322337462 64\n",
      "Gain  0.956043765616 1.04788701662 57\n",
      "Iteration  3350 /   5000 (elapsed time:  524s,  8.7mn)\n",
      "Norm  0.996545120896 1.00308570879 61\n",
      "Gain  0.957248243996 1.04911009926 48\n",
      "Iteration  3400 /   5000 (elapsed time:  531s,  8.9mn)\n",
      "Norm  0.99806588921 1.00354182942 55\n",
      "Gain  0.956183363258 1.03298138069 85\n",
      "Iteration  3450 /   5000 (elapsed time:  539s,  9.0mn)\n",
      "Norm  0.99671096296 1.004853728 20\n",
      "Gain  0.948556662867 1.04697649288 57\n",
      "Iteration  3500 /   5000 (elapsed time:  545s,  9.1mn)\n",
      "Norm  0.997286948448 1.00341225172 24\n",
      "Gain  0.964268308033 1.05778814972 12\n",
      "Iteration  3550 /   5000 (elapsed time:  552s,  9.2mn)\n",
      "Norm  0.993002870399 1.00809951604 8\n",
      "Gain  0.924866352902 1.21705855452 65\n",
      "Iteration  3600 /   5000 (elapsed time:  556s,  9.3mn)\n",
      "Norm  1.00107139094 1.00854217886 41\n",
      "Gain  0.940340690364 1.14039787622 65\n",
      "Iteration  3650 /   5000 (elapsed time:  559s,  9.3mn)\n",
      "Norm  0.994756552342 1.00479633231 87\n",
      "Gain  0.93852045158 1.09052880415 65\n",
      "Iteration  3700 /   5000 (elapsed time:  561s,  9.4mn)\n",
      "Norm  0.996845053702 1.00709879288 49\n",
      "Gain  0.926815719612 1.04438859219 17\n",
      "Iteration  3750 /   5000 (elapsed time:  563s,  9.4mn)\n",
      "Norm  0.987699323956 1.00196594073 29\n",
      "Gain  0.934231746084 1.10308871912 24\n",
      "Iteration  3800 /   5000 (elapsed time:  565s,  9.4mn)\n",
      "Norm  1.38019957255 1.84703026347 68\n",
      "Gain  0.263186916467 36.1493641748 94\n",
      "Iteration  3850 /   5000 (elapsed time:  566s,  9.4mn)\n",
      "Norm  1.80113757475 1.82724288961 11\n",
      "Gain  0.261891756161 35.6186487376 94\n",
      "Iteration  3900 /   5000 (elapsed time:  566s,  9.4mn)\n",
      "Norm  1.96349502474 2.07324016547 97\n",
      "Gain  0.196905685919 26.1146848048 94\n",
      "Iteration  3950 /   5000 (elapsed time:  567s,  9.5mn)\n",
      "Norm  1.99149463951 2.02670838772 23\n",
      "Gain  0.200022829338 25.7441546467 94\n",
      "Iteration  4000 /   5000 (elapsed time:  568s,  9.5mn)\n",
      "Norm  1.94541987389 1.98199907817 55\n",
      "Gain  0.234007323235 25.3964517879 94\n",
      "Iteration  4050 /   5000 (elapsed time:  568s,  9.5mn)\n",
      "Norm  1.90287646155 1.93881862323 36\n",
      "Gain  0.23325719831 25.0448713939 94\n",
      "Iteration  4100 /   5000 (elapsed time:  569s,  9.5mn)\n",
      "Norm  1.84281646849 1.88897447081 78\n",
      "Gain  0.238205074679 24.7118792677 94\n",
      "Iteration  4150 /   5000 (elapsed time:  570s,  9.5mn)\n",
      "Norm  1.82150408657 1.8519109845 68\n",
      "Gain  0.262810791345 24.3550786386 94\n",
      "Iteration  4200 /   5000 (elapsed time:  570s,  9.5mn)\n",
      "Norm  1.77715824157 1.81321344443 10\n",
      "Gain  0.280792697042 23.9876030442 94\n",
      "Iteration  4250 /   5000 (elapsed time:  571s,  9.5mn)\n",
      "Norm  1.75084729811 1.774130159 78\n",
      "Gain  0.279604371789 23.6419342552 94\n",
      "Iteration  4300 /   5000 (elapsed time:  572s,  9.5mn)\n",
      "Norm  1.71376201239 1.74414732581 25\n",
      "Gain  0.274474469851 23.2081756427 94\n",
      "Iteration  4350 /   5000 (elapsed time:  572s,  9.5mn)\n",
      "Norm  1.7393838088 1.77783473662 16\n",
      "Gain  0.252942516584 21.3875423662 94\n",
      "Iteration  4400 /   5000 (elapsed time:  573s,  9.6mn)\n",
      "Norm  1.70636217505 1.73511324867 22\n",
      "Gain  0.249072158251 21.0602844029 94\n",
      "Iteration  4450 /   5000 (elapsed time:  574s,  9.6mn)\n",
      "Norm  1.66427069743 1.70961443595 59\n",
      "Gain  0.255584721923 20.7440780899 94\n",
      "Iteration  4500 /   5000 (elapsed time:  575s,  9.6mn)\n",
      "Norm  1.65373106761 1.70085724623 80\n",
      "Gain  0.252327837373 20.4418988077 94\n",
      "Iteration  4550 /   5000 (elapsed time:  576s,  9.6mn)\n",
      "Norm  1.62064549369 1.64833424878 69\n",
      "Gain  0.300469513032 20.1282139665 94\n",
      "Iteration  4600 /   5000 (elapsed time:  576s,  9.6mn)\n",
      "Norm  1.60561182155 1.64071484726 65\n",
      "Gain  0.295941118119 19.8248603889 94\n",
      "Iteration  4650 /   5000 (elapsed time:  577s,  9.6mn)\n",
      "Norm  1.58084746113 1.6105308574 85\n",
      "Gain  0.287123995917 19.2342083775 94\n",
      "Iteration  4700 /   5000 (elapsed time:  578s,  9.6mn)\n",
      "Norm  1.56795418088 1.59252899214 80\n",
      "Gain  0.281427555597 18.8526083661 94\n",
      "Iteration  4750 /   5000 (elapsed time:  579s,  9.7mn)\n",
      "Norm  1.54014417897 1.56369090094 14\n",
      "Gain  0.277098255487 18.5625919912 94\n",
      "Iteration  4800 /   5000 (elapsed time:  580s,  9.7mn)\n",
      "Norm  1.5137242464 1.54090847714 4\n",
      "Gain  0.272655878592 18.2650006923 94\n",
      "Iteration  4850 /   5000 (elapsed time:  580s,  9.7mn)\n",
      "Norm  1.49416838731 1.51931779841 3\n",
      "Gain  0.268656293242 17.9970716472 94\n",
      "Iteration  4900 /   5000 (elapsed time:  581s,  9.7mn)\n",
      "Norm  1.48386444383 1.51206931467 67\n",
      "Gain  0.258959978148 17.3475232023 94\n",
      "Iteration  4950 /   5000 (elapsed time:  582s,  9.7mn)\n",
      "Norm  1.47335961768 1.49933379011 82\n",
      "Gain  0.285574935017 16.7575312929 94\n",
      "done in 583.17s.\n"
     ]
    },
    {
     "data": {
      "image/png": "[encoded data removed]",
      "text/plain": [
       "<matplotlib.figure.Figure at 0x10f5005d0>"
      ]
     },
     "metadata": {},
     "output_type": "display_data"
    }
   ],
   "source": [
    "shl = SHL(DEBUG_DOWNSCALE=DEBUG_DOWNSCALE, learning_algorithm='omp', verbose=verbose)\n",
    "dico = shl.learn_dico()\n",
    "_ = shl.show_dico(dico)"
   ]
  },
  {
   "cell_type": "markdown",
   "metadata": {},
   "source": [
    "## Homeostasis à-la-SparseNet"
   ]
  },
  {
   "cell_type": "code",
   "execution_count": null,
   "metadata": {
    "collapsed": false,
    "scrolled": true
   },
   "outputs": [
    {
     "name": "stdout",
     "output_type": "stream",
     "text": [
      "Extracting data...\b\b\b\b\b\b\b\b\b\b\b\b\b\b\b\b\b\b\b\b\b\b\b\b\b\b\b\b\b\b\b\b\b\b\b\b\b\b\b\b\bHda_obj404.jpg, Mdn_for35.jpg, Hdn_objn24.jpg, Bda_enc67.jpg, Bdn_natu350.jpg, Fdn_natu649.jpg, Fdn_nat1004.jpg, Bda_int741.jpg, Hda_obj57.jpg, Mda_art450.jpg, Hda_obj59.jpg, Bda_room133.jpg, Fda_A803044.jpg, Bdn_text121.jpg, Bdn_for122.jpg, Mdn_natu590.jpg, Bda_art629.jpg, Hdn_objn37.jpg, Fdn_nat480.jpg, Bda_art923.jpg, Mda_archi289.jpg, Bda_room40.jpg, Hda_obj76.jpg, Bdn_text16.jpg, Mda_gre199.jpg, Bdn_objn146.jpg, Fdn_open17.jpg, Hdn_objn32.jpg, Fdn_natu408.jpg, Mdn_N344026.jpg, Mdn_N295009.jpg, Bdn_land377.jpg, Bda_art1168.jpg, Mda_art545.jpg, Fdn_land386.jpg, Mda_art573.jpg, Mda_art1084.jpg, Mda_archi42.jpg, Hda_obj87.jpg, Bda_gre298.jpg, Fda_urb128.jpg, Hdn_natu354.jpg, Mdn_for22.jpg, Bda_art145.jpg, Bdn_natu160.jpg, Fdn_nat322.jpg, Mdn_N295008.jpg, Fda_art1317.jpg, Hda_obj56.jpg, Mda_archi422.jpg, Hda_obj396.jpg, Bda_int110.jpg, Bdn_text23.jpg, Fda_A805045.jpg, Mdn_N251013.jpg, Mda_arnat105.jpg, Hdn_objn34.jpg, Bda_room141.jpg, Hdn_N124064.jpg, Hda_obj416.jpg, Hda_obj298.jpg, Hdn_objn213.jpg, Fda_A804056.jpg, Bda_room28.jpg, Fdn_nat10.jpg, Mdn_nat1253.jpg, Bdn_land872.jpg, Fda_A673062.jpg, Fda_city14.jpg, Fdn_bea1.jpg, Mda_archi327.jpg, Bda_art971.jpg, Hda_obj390.jpg, Bda_room165.jpg, Bdn_natu5.jpg, Fda_art1420.jpg, Hdn_objn137.jpg, Mdn_N347022.jpg, Hdn_objn200.jpg, Hda_obj84.jpg, Hdn_objn217.jpg, Fdn_land83.jpg, Bdn_text20.jpg, Fdn_natu79.jpg, Mdn_N328089.jpg, Bda_room43.jpg, Mda_gre329.jpg, Bda_art1256.jpg, Fdn_text69.jpg, Fda_art1015.jpg, Hda_obj111.jpg, Mdn_text38.jpg, Mdn_natu696.jpg, Hda_obj257.jpg, Mdn_N344067.jpg, Hda_obj99.jpg, Hdn_objn66.jpg, Hda_obj98.jpg, Hda_obj95.jpg, Hda_obj5.jpg, Hdn_objn45.jpg, Mdn_N347015.jpg, Bdn_natu156.jpg, Hdn_objn56.jpg, Mda_art600.jpg, Mda_art675.jpg, "
     ]
    }
   ],
   "source": [
    "for alpha_homeo in np.logspace(-2, 0, 5, base=10):\n",
    "    shl = SHL(DEBUG_DOWNSCALE=DEBUG_DOWNSCALE, \n",
    "              learning_algorithm='omp', alpha_homeo=alpha_homeo, verbose=verbose)\n",
    "    dico = shl.learn_dico()\n",
    "    _ = shl.show_dico(dico)"
   ]
  },
  {
   "cell_type": "code",
   "execution_count": null,
   "metadata": {
    "collapsed": false,
    "scrolled": true
   },
   "outputs": [],
   "source": [
    "%run setup.py --long-description"
   ]
  },
  {
   "cell_type": "markdown",
   "metadata": {},
   "source": [
    "## Version used"
   ]
  },
  {
   "cell_type": "code",
   "execution_count": null,
   "metadata": {
    "collapsed": false
   },
   "outputs": [],
   "source": [
    "%install_ext http://raw.github.com/jrjohansson/version_information/master/version_information.py\n",
    "%load_ext version_information\n",
    "%version_information numpy"
   ]
  }
 ],
 "metadata": {
  "kernelspec": {
   "display_name": "Python 2",
   "language": "python",
   "name": "python2"
  },
  "language_info": {
   "codemirror_mode": {
    "name": "ipython",
    "version": 2
   },
   "file_extension": ".py",
   "mimetype": "text/x-python",
   "name": "python",
   "nbconvert_exporter": "python",
   "pygments_lexer": "ipython2",
   "version": "2.7.10"
  }
 },
 "nbformat": 4,
 "nbformat_minor": 0
}
