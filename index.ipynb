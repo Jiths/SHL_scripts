{
 "cells": [
  {
   "cell_type": "markdown",
   "metadata": {
    "collapsed": true
   },
   "source": [
    "# Sparse Hebbian Learning "
   ]
  },
  {
   "cell_type": "code",
   "execution_count": 9,
   "metadata": {
    "collapsed": false
   },
   "outputs": [
    {
     "name": "stdout",
     "output_type": "stream",
     "text": [
      "The autoreload extension is already loaded. To reload it, use:\n",
      "  %reload_ext autoreload\n"
     ]
    }
   ],
   "source": [
    "%load_ext autoreload\n",
    "%autoreload 2"
   ]
  },
  {
   "cell_type": "code",
   "execution_count": 8,
   "metadata": {
    "collapsed": false
   },
   "outputs": [
    {
     "name": "stdout",
     "output_type": "stream",
     "text": [
      " This is a collection of python scripts to test learning strategies to efficiently code natural image patches.  This is here restricted  to the framework of the [SparseNet algorithm from Bruno Olshausen](http://redwood.berkeley.edu/bruno/sparsenet/).\n"
     ]
    }
   ],
   "source": [
    "%run setup.py --description"
   ]
  },
  {
   "cell_type": "code",
   "execution_count": null,
   "metadata": {
    "collapsed": true
   },
   "outputs": [],
   "source": [
    "%matplotlib inline\n",
    "import matplotlib.pyplot as plt\n",
    "import numpy as np\n",
    "np.set_printoptions(precision=2, suppress=True)"
   ]
  },
  {
   "cell_type": "code",
   "execution_count": null,
   "metadata": {
    "collapsed": true
   },
   "outputs": [],
   "source": [
    "from shl_scripts import SHL\n",
    "DEBUG_DOWNSCALE, verbose = 10, 0\n",
    "DEBUG_DOWNSCALE, verbose = 1, 0\n",
    "DEBUG_DOWNSCALE, verbose = 10, 100"
   ]
  },
  {
   "cell_type": "code",
   "execution_count": null,
   "metadata": {
    "collapsed": false,
    "scrolled": false
   },
   "outputs": [
    {
     "name": "stdout",
     "output_type": "stream",
     "text": [
      "Extracting data...\b\b\b\b\b\b\b\b\b\b\b\b\b\b\b\b\b\b\b\b\b\b\b\b\b\b\b\b\b\b\b\b\b\b\b\b\b\b\b\b\bMda_archi42.jpg, Mdn_nat211.jpg, Bdn_land376.jpg, Mdn_nat492.jpg, Fdn_nat1238.jpg, Bdn_natu156.jpg, Mda_gre178.jpg, Bdn_natu419.jpg, Bdn_nat216.jpg, Mdn_natu869.jpg, Mda_hous47.jpg, Hda_obj94.jpg, Bda_art145.jpg, Fdn_nat498.jpg, Hda_obj51.jpg, Bdn_natu393.jpg, Hdn_objn56.jpg, Bdn_land859.jpg, Mdn_N344039.jpg, Mda_art1136.jpg, Fda_art1204.jpg, Mda_urb214.jpg, Mdn_natu412.jpg, Fdn_bea1.jpg, Bda_int741.jpg, Mda_archi289.jpg, Fdn_nat283.jpg, Hda_obj74.jpg, Mdn_N328009.jpg, Bdn_land861.jpg, Hdn_objn43.jpg, Mdn_text90.jpg, Hdn_objn38.jpg, Bdn_text83.jpg, Bdn_text21.jpg, Hdn_objn23.jpg, Hda_room431.jpg, Bdn_objn152.jpg, Mda_art175.jpg, Bdn_N44094.jpg, Mdn_text45.jpg, Hda_obj295.jpg, Bda_art1193.jpg, Fdn_nat155.jpg, Fda_A804056.jpg, Bda_int211.jpg, Hda_obj96.jpg, Bda_art1152.jpg, Mdn_N228078.jpg, Mdn_N291096.jpg, Hdn_natu623.jpg, Fda_A803044.jpg, Bdn_nat915.jpg, Mda_art1312.jpg, Hdn_text6.jpg, Mda_archi100.jpg, Mda_gre321.jpg, Bda_art1271.jpg, Fdn_open14.jpg, Mdn_N347002.jpg, Bda_room9.jpg, Mdn_land159.jpg, Mda_art242.jpg, Fdn_open21.jpg, Fda_art1418.jpg, Fda_A805045.jpg, Hda_obj99.jpg, Bda_room43.jpg, Fda_art709.jpg, Fdn_land362.jpg, Hdn_objn180.jpg, Bda_art671.jpg, Bda_art1185.jpg, Mda_arnat105.jpg, Mdn_natu172.jpg, Fda_art336.jpg, Bda_room40.jpg, Mdn_nat954.jpg, Hdn_objn29.jpg, Mdn_nat634.jpg, Mda_gre199.jpg, Bdn_nat1006.jpg, Hda_obj88.jpg, Hda_obj205.jpg, Fdn_sharp22.jpg, Mda_art1680.jpg, Fda_city89.jpg, Hda_obj100.jpg, Mdn_N295008.jpg, Bdn_text111.jpg, Fdn_open67.jpg, Fda_art1469.jpg, Mda_art450.jpg, Mda_art337.jpg, Hdn_N124002.jpg, Bda_room188.jpg, Mda_urb276.jpg, Hda_obj176.jpg, Fda_art1017.jpg, Mdn_N328089.jpg, Bdn_for153.jpg, Hdn_N115088.jpg, Bdn_text5.jpg, Bdn_natu676.jpg, Hda_obj65.jpg, Hda_obj348.jpg, Bda_urb280.jpg, Mdn_for72.jpg, Bda_art971.jpg, Hda_obj59.jpg, Fda_urb342.jpg, Bdn_natu5.jpg, Mda_urb515.jpg, Fda_art1465.jpg, Fda_street29.jpg, Fda_A223024.jpg, Mdn_land743.jpg, Fdn_land241.jpg, Fdn_for7.jpg, Fdn_land386.jpg, Mda_urb562.jpg, Bdn_natu133.jpg, Bdn_nat219.jpg, Fda_urb715.jpg, Bda_art1158.jpg, Bdn_text29.jpg, Hda_obj95.jpg, Fdn_bea10.jpg, Mdn_N291070.jpg, Bdn_for122.jpg, Bdn_N83045.jpg, Bda_art623.jpg, Bda_gre607.jpg, Bda_art1156.jpg, Hdn_objn25.jpg, Fda_art772.jpg, Mda_urb700.jpg, Hda_obj73.jpg, Fdn_open17.jpg, Fda_A487031.jpg, Bda_art923.jpg, Bda_int770.jpg, Fda_art1535.jpg, Mda_art675.jpg, Hda_obj93.jpg, Hdn_objn129.jpg, Mdn_N347022.jpg, Hdn_objn113.jpg, Fda_art246.jpg, Fda_art1684.jpg, Hda_int453.jpg, Mdn_N251013.jpg, Bdn_natu379.jpg, Hda_obj98.jpg, Mda_archi233.jpg, Mdn_natu169.jpg, Fdn_open18.jpg, Mda_art750.jpg, Hda_obj12.jpg, Mdn_for135.jpg, Fda_A517086.jpg, Fdn_text26.jpg, Bda_int767.jpg, Bdn_land759.jpg, Fdn_bea39.jpg, Bda_int78.jpg, Bda_room4.jpg, Hdn_objn190.jpg, Hdn_N124055.jpg, Mda_urb902.jpg, Bda_int110.jpg, Mda_art669.jpg, Fda_A219084.jpg, Fda_A673062.jpg, Fdn_land356.jpg, Bdn_objn102.jpg, Hdn_land840.jpg, Bda_art682.jpg, Bdn_text18.jpg, Hda_obj414.jpg, Fda_A683068.jpg, Hdn_natu729.jpg, Hdn_objn32.jpg, Hda_obj87.jpg, Bda_room28.jpg, Mda_urb982.jpg, Bda_room12.jpg, Hdn_N124065.jpg, Mdn_land170.jpg, Fda_art36.jpg, Hda_obj182.jpg, Bda_room23.jpg, Mdn_nat164.jpg, Mda_art547.jpg, Fda_art1470.jpg, Bda_art673.jpg, Bdn_text121.jpg, Hdn_objn125.jpg, Fdn_natu919.jpg, Bda_art1147.jpg, \n",
      "Data is of shape : (200000, 100)done in 18.96s.Learning the dictionary... Training on 200000 patches... Iteration   0 /   5000 (elapsed time:   0s,  0.0mn)\n",
      "Norm  1.0 1.0 41\n",
      "Gain  1.0 1.0 0\n",
      "Iteration  50 /   5000 (elapsed time:   4s,  0.1mn)\n",
      "Norm  0.998796512891 1.0022625965 25\n",
      "Gain  0.985349580516 1.02512824771 68\n",
      "Iteration  100 /   5000 (elapsed time:   8s,  0.1mn)\n",
      "Norm  0.998919814982 1.00154075501 69\n",
      "Gain  0.991467134404 1.01049674718 68\n",
      "Iteration  150 /   5000 (elapsed time:  11s,  0.2mn)\n",
      "Norm  0.998152876081 1.00228527933 77\n",
      "Gain  0.983029501309 1.01566935296 99\n",
      "Iteration  200 /   5000 (elapsed time:  15s,  0.3mn)\n",
      "Norm  0.998789722742 1.00130612381 8\n",
      "Gain  0.969646462342 1.01514956453 56\n",
      "Iteration  250 /   5000 (elapsed time:  19s,  0.3mn)\n",
      "Norm  0.998963914011 1.00333618481 49\n",
      "Gain  0.977920101472 1.02337600095 31\n",
      "Iteration  300 /   5000 (elapsed time:  22s,  0.4mn)\n",
      "Norm  0.998145552214 1.00150578314 71\n",
      "Gain  0.980935552006 1.01713704441 88\n",
      "Iteration  350 /   5000 (elapsed time:  26s,  0.4mn)\n",
      "Norm  0.998662971943 1.00205572213 45\n",
      "Gain  0.973675920915 1.02281733239 91\n",
      "Iteration  400 /   5000 (elapsed time:  29s,  0.5mn)\n",
      "Norm  0.998789665028 1.00244179693 98\n",
      "Gain  0.978773853094 1.02191797851 10\n",
      "Iteration  450 /   5000 (elapsed time:  33s,  0.6mn)"
     ]
    }
   ],
   "source": [
    "shl = SHL(DEBUG_DOWNSCALE=DEBUG_DOWNSCALE,\n",
    "          learning_algorithm='omp', transform_n_nonzero_coefs=10, verbose=verbose)\n",
    "dico = shl.learn_dico()\n",
    "_ = shl.show_dico(dico)"
   ]
  },
  {
   "cell_type": "markdown",
   "metadata": {},
   "source": [
    "## Homeostasis à-la-SparseNet"
   ]
  },
  {
   "cell_type": "code",
   "execution_count": null,
   "metadata": {
    "collapsed": false,
    "scrolled": true
   },
   "outputs": [],
   "source": [
    "for alpha_homeo in np.logspace(-2, 0, 5, base=10):\n",
    "    shl = SHL(DEBUG_DOWNSCALE=DEBUG_DOWNSCALE, \n",
    "              learning_algorithm='omp', alpha_homeo=alpha_homeo, verbose=verbose)\n",
    "    dico = shl.learn_dico()\n",
    "    _ = shl.show_dico(dico)"
   ]
  },
  {
   "cell_type": "code",
   "execution_count": null,
   "metadata": {
    "collapsed": false,
    "scrolled": true
   },
   "outputs": [],
   "source": [
    "%run setup.py --long-description"
   ]
  },
  {
   "cell_type": "markdown",
   "metadata": {},
   "source": [
    "## Version used"
   ]
  },
  {
   "cell_type": "code",
   "execution_count": null,
   "metadata": {
    "collapsed": false
   },
   "outputs": [],
   "source": [
    "%install_ext http://raw.github.com/jrjohansson/version_information/master/version_information.py\n",
    "%load_ext version_information\n",
    "%version_information numpy"
   ]
  }
 ],
 "metadata": {
  "kernelspec": {
   "display_name": "Python 2",
   "language": "python",
   "name": "python2"
  },
  "language_info": {
   "codemirror_mode": {
    "name": "ipython",
    "version": 2
   },
   "file_extension": ".py",
   "mimetype": "text/x-python",
   "name": "python",
   "nbconvert_exporter": "python",
   "pygments_lexer": "ipython2",
   "version": "2.7.10"
  }
 },
 "nbformat": 4,
 "nbformat_minor": 0
}
